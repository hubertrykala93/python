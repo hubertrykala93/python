{
  "nbformat": 4,
  "nbformat_minor": 0,
  "metadata": {
    "colab": {
      "name": "language-detection-predict.ipynb",
      "provenance": [],
      "collapsed_sections": [],
      "authorship_tag": "ABX9TyNH3vSXxVuI0hgCWJh7OskV",
      "include_colab_link": true
    },
    "kernelspec": {
      "name": "python3",
      "display_name": "Python 3"
    },
    "language_info": {
      "name": "python"
    }
  },
  "cells": [
    {
      "cell_type": "markdown",
      "metadata": {
        "id": "view-in-github",
        "colab_type": "text"
      },
      "source": [
        "<a href=\"https://colab.research.google.com/github/hubertrykala93/language_detection_predict/blob/main/language_detection_predict.ipynb\" target=\"_parent\"><img src=\"https://colab.research.google.com/assets/colab-badge.svg\" alt=\"Open In Colab\"/></a>"
      ]
    },
    {
      "cell_type": "code",
      "execution_count": 57,
      "metadata": {
        "id": "u_qnyutqpea-"
      },
      "outputs": [],
      "source": [
        "import numpy as np\n",
        "import pandas as pd\n",
        "import matplotlib.pyplot as plt\n",
        "import seaborn as sns\n",
        "from sklearn.model_selection import train_test_split\n",
        "from sklearn.feature_extraction.text import TfidfVectorizer\n",
        "from sklearn.svm import SVC\n",
        "from sklearn.metrics import classification_report"
      ]
    },
    {
      "cell_type": "code",
      "source": [
        "np.set_printoptions(suppress=True, edgeitems=30, linewidth=100000, formatter=dict(float=lambda x: f'{x:.8f}'))\n",
        "np.random.seed(42)"
      ],
      "metadata": {
        "id": "rmoo4Ny2pqJP"
      },
      "execution_count": null,
      "outputs": []
    },
    {
      "cell_type": "code",
      "source": [
        "sns.set()"
      ],
      "metadata": {
        "id": "FW52v8C0psHn"
      },
      "execution_count": null,
      "outputs": []
    },
    {
      "cell_type": "code",
      "source": [
        "desired_width = 320\n",
        "pd.set_option('display.width', desired_width)\n",
        "pd.set_option('display.max_columns', 12)"
      ],
      "metadata": {
        "id": "FW6Ldts0pt-y"
      },
      "execution_count": null,
      "outputs": []
    },
    {
      "cell_type": "code",
      "source": [
        "raw_data = pd.read_csv(filepath_or_buffer='/content/language_detection.csv')"
      ],
      "metadata": {
        "id": "PKDztzihpyZF"
      },
      "execution_count": null,
      "outputs": []
    },
    {
      "cell_type": "code",
      "source": [
        "all_data = raw_data.copy()"
      ],
      "metadata": {
        "id": "trWV6ko1qh_R"
      },
      "execution_count": null,
      "outputs": []
    },
    {
      "cell_type": "code",
      "source": [
        "all_data.head(n=10)"
      ],
      "metadata": {
        "colab": {
          "base_uri": "https://localhost:8080/",
          "height": 363
        },
        "id": "wyCkGw_ZqkyX",
        "outputId": "ba0926a8-c1cc-43e2-cc77-b224e6f8f395"
      },
      "execution_count": null,
      "outputs": [
        {
          "output_type": "execute_result",
          "data": {
            "text/plain": [
              "                                                Text  language\n",
              "0  klement gottwaldi surnukeha palsameeriti ning ...  Estonian\n",
              "1  sebes joseph pereira thomas  på eng the jesuit...   Swedish\n",
              "2  ถนนเจริญกรุง อักษรโรมัน thanon charoen krung เ...      Thai\n",
              "3  விசாகப்பட்டினம் தமிழ்ச்சங்கத்தை இந்துப் பத்திர...     Tamil\n",
              "4  de spons behoort tot het geslacht haliclona en...     Dutch\n",
              "5  エノが行きがかりでバスに乗ってしまい、気分が悪くなった際に助けるが、今すぐバスを降りたいと運...  Japanese\n",
              "6  tsutinalar i̇ngilizce tsuutina kanadada albert...   Turkish\n",
              "7  müller mox figura centralis circulorum doctoru...     Latin\n",
              "8  برقی بار electric charge تمام زیرجوہری ذرات کی...      Urdu\n",
              "9  シャーリー・フィールドは、サン・ベルナルド・アベニュー沿い市民センターとrtマーティン高校に...  Japanese"
            ],
            "text/html": [
              "\n",
              "  <div id=\"df-6fbf16d5-c417-40a6-ad95-67bc140f9903\">\n",
              "    <div class=\"colab-df-container\">\n",
              "      <div>\n",
              "<style scoped>\n",
              "    .dataframe tbody tr th:only-of-type {\n",
              "        vertical-align: middle;\n",
              "    }\n",
              "\n",
              "    .dataframe tbody tr th {\n",
              "        vertical-align: top;\n",
              "    }\n",
              "\n",
              "    .dataframe thead th {\n",
              "        text-align: right;\n",
              "    }\n",
              "</style>\n",
              "<table border=\"1\" class=\"dataframe\">\n",
              "  <thead>\n",
              "    <tr style=\"text-align: right;\">\n",
              "      <th></th>\n",
              "      <th>Text</th>\n",
              "      <th>language</th>\n",
              "    </tr>\n",
              "  </thead>\n",
              "  <tbody>\n",
              "    <tr>\n",
              "      <th>0</th>\n",
              "      <td>klement gottwaldi surnukeha palsameeriti ning ...</td>\n",
              "      <td>Estonian</td>\n",
              "    </tr>\n",
              "    <tr>\n",
              "      <th>1</th>\n",
              "      <td>sebes joseph pereira thomas  på eng the jesuit...</td>\n",
              "      <td>Swedish</td>\n",
              "    </tr>\n",
              "    <tr>\n",
              "      <th>2</th>\n",
              "      <td>ถนนเจริญกรุง อักษรโรมัน thanon charoen krung เ...</td>\n",
              "      <td>Thai</td>\n",
              "    </tr>\n",
              "    <tr>\n",
              "      <th>3</th>\n",
              "      <td>விசாகப்பட்டினம் தமிழ்ச்சங்கத்தை இந்துப் பத்திர...</td>\n",
              "      <td>Tamil</td>\n",
              "    </tr>\n",
              "    <tr>\n",
              "      <th>4</th>\n",
              "      <td>de spons behoort tot het geslacht haliclona en...</td>\n",
              "      <td>Dutch</td>\n",
              "    </tr>\n",
              "    <tr>\n",
              "      <th>5</th>\n",
              "      <td>エノが行きがかりでバスに乗ってしまい、気分が悪くなった際に助けるが、今すぐバスを降りたいと運...</td>\n",
              "      <td>Japanese</td>\n",
              "    </tr>\n",
              "    <tr>\n",
              "      <th>6</th>\n",
              "      <td>tsutinalar i̇ngilizce tsuutina kanadada albert...</td>\n",
              "      <td>Turkish</td>\n",
              "    </tr>\n",
              "    <tr>\n",
              "      <th>7</th>\n",
              "      <td>müller mox figura centralis circulorum doctoru...</td>\n",
              "      <td>Latin</td>\n",
              "    </tr>\n",
              "    <tr>\n",
              "      <th>8</th>\n",
              "      <td>برقی بار electric charge تمام زیرجوہری ذرات کی...</td>\n",
              "      <td>Urdu</td>\n",
              "    </tr>\n",
              "    <tr>\n",
              "      <th>9</th>\n",
              "      <td>シャーリー・フィールドは、サン・ベルナルド・アベニュー沿い市民センターとrtマーティン高校に...</td>\n",
              "      <td>Japanese</td>\n",
              "    </tr>\n",
              "  </tbody>\n",
              "</table>\n",
              "</div>\n",
              "      <button class=\"colab-df-convert\" onclick=\"convertToInteractive('df-6fbf16d5-c417-40a6-ad95-67bc140f9903')\"\n",
              "              title=\"Convert this dataframe to an interactive table.\"\n",
              "              style=\"display:none;\">\n",
              "        \n",
              "  <svg xmlns=\"http://www.w3.org/2000/svg\" height=\"24px\"viewBox=\"0 0 24 24\"\n",
              "       width=\"24px\">\n",
              "    <path d=\"M0 0h24v24H0V0z\" fill=\"none\"/>\n",
              "    <path d=\"M18.56 5.44l.94 2.06.94-2.06 2.06-.94-2.06-.94-.94-2.06-.94 2.06-2.06.94zm-11 1L8.5 8.5l.94-2.06 2.06-.94-2.06-.94L8.5 2.5l-.94 2.06-2.06.94zm10 10l.94 2.06.94-2.06 2.06-.94-2.06-.94-.94-2.06-.94 2.06-2.06.94z\"/><path d=\"M17.41 7.96l-1.37-1.37c-.4-.4-.92-.59-1.43-.59-.52 0-1.04.2-1.43.59L10.3 9.45l-7.72 7.72c-.78.78-.78 2.05 0 2.83L4 21.41c.39.39.9.59 1.41.59.51 0 1.02-.2 1.41-.59l7.78-7.78 2.81-2.81c.8-.78.8-2.07 0-2.86zM5.41 20L4 18.59l7.72-7.72 1.47 1.35L5.41 20z\"/>\n",
              "  </svg>\n",
              "      </button>\n",
              "      \n",
              "  <style>\n",
              "    .colab-df-container {\n",
              "      display:flex;\n",
              "      flex-wrap:wrap;\n",
              "      gap: 12px;\n",
              "    }\n",
              "\n",
              "    .colab-df-convert {\n",
              "      background-color: #E8F0FE;\n",
              "      border: none;\n",
              "      border-radius: 50%;\n",
              "      cursor: pointer;\n",
              "      display: none;\n",
              "      fill: #1967D2;\n",
              "      height: 32px;\n",
              "      padding: 0 0 0 0;\n",
              "      width: 32px;\n",
              "    }\n",
              "\n",
              "    .colab-df-convert:hover {\n",
              "      background-color: #E2EBFA;\n",
              "      box-shadow: 0px 1px 2px rgba(60, 64, 67, 0.3), 0px 1px 3px 1px rgba(60, 64, 67, 0.15);\n",
              "      fill: #174EA6;\n",
              "    }\n",
              "\n",
              "    [theme=dark] .colab-df-convert {\n",
              "      background-color: #3B4455;\n",
              "      fill: #D2E3FC;\n",
              "    }\n",
              "\n",
              "    [theme=dark] .colab-df-convert:hover {\n",
              "      background-color: #434B5C;\n",
              "      box-shadow: 0px 1px 3px 1px rgba(0, 0, 0, 0.15);\n",
              "      filter: drop-shadow(0px 1px 2px rgba(0, 0, 0, 0.3));\n",
              "      fill: #FFFFFF;\n",
              "    }\n",
              "  </style>\n",
              "\n",
              "      <script>\n",
              "        const buttonEl =\n",
              "          document.querySelector('#df-6fbf16d5-c417-40a6-ad95-67bc140f9903 button.colab-df-convert');\n",
              "        buttonEl.style.display =\n",
              "          google.colab.kernel.accessAllowed ? 'block' : 'none';\n",
              "\n",
              "        async function convertToInteractive(key) {\n",
              "          const element = document.querySelector('#df-6fbf16d5-c417-40a6-ad95-67bc140f9903');\n",
              "          const dataTable =\n",
              "            await google.colab.kernel.invokeFunction('convertToInteractive',\n",
              "                                                     [key], {});\n",
              "          if (!dataTable) return;\n",
              "\n",
              "          const docLinkHtml = 'Like what you see? Visit the ' +\n",
              "            '<a target=\"_blank\" href=https://colab.research.google.com/notebooks/data_table.ipynb>data table notebook</a>'\n",
              "            + ' to learn more about interactive tables.';\n",
              "          element.innerHTML = '';\n",
              "          dataTable['output_type'] = 'display_data';\n",
              "          await google.colab.output.renderOutput(dataTable, element);\n",
              "          const docLink = document.createElement('div');\n",
              "          docLink.innerHTML = docLinkHtml;\n",
              "          element.appendChild(docLink);\n",
              "        }\n",
              "      </script>\n",
              "    </div>\n",
              "  </div>\n",
              "  "
            ]
          },
          "metadata": {},
          "execution_count": 9
        }
      ]
    },
    {
      "cell_type": "code",
      "source": [
        "all_data.describe(include='object').transpose()"
      ],
      "metadata": {
        "colab": {
          "base_uri": "https://localhost:8080/",
          "height": 112
        },
        "id": "FyLRdmuwqxAQ",
        "outputId": "d2f61942-84f1-4281-de8a-28f9b79b6b96"
      },
      "execution_count": null,
      "outputs": [
        {
          "output_type": "execute_result",
          "data": {
            "text/plain": [
              "          count unique                                                top  freq\n",
              "Text      22000  21859  haec commentatio automatice praeparata res ast...    48\n",
              "language  22000     22                                           Estonian  1000"
            ],
            "text/html": [
              "\n",
              "  <div id=\"df-a05652cd-7693-494a-954d-5d5ec4b16360\">\n",
              "    <div class=\"colab-df-container\">\n",
              "      <div>\n",
              "<style scoped>\n",
              "    .dataframe tbody tr th:only-of-type {\n",
              "        vertical-align: middle;\n",
              "    }\n",
              "\n",
              "    .dataframe tbody tr th {\n",
              "        vertical-align: top;\n",
              "    }\n",
              "\n",
              "    .dataframe thead th {\n",
              "        text-align: right;\n",
              "    }\n",
              "</style>\n",
              "<table border=\"1\" class=\"dataframe\">\n",
              "  <thead>\n",
              "    <tr style=\"text-align: right;\">\n",
              "      <th></th>\n",
              "      <th>count</th>\n",
              "      <th>unique</th>\n",
              "      <th>top</th>\n",
              "      <th>freq</th>\n",
              "    </tr>\n",
              "  </thead>\n",
              "  <tbody>\n",
              "    <tr>\n",
              "      <th>Text</th>\n",
              "      <td>22000</td>\n",
              "      <td>21859</td>\n",
              "      <td>haec commentatio automatice praeparata res ast...</td>\n",
              "      <td>48</td>\n",
              "    </tr>\n",
              "    <tr>\n",
              "      <th>language</th>\n",
              "      <td>22000</td>\n",
              "      <td>22</td>\n",
              "      <td>Estonian</td>\n",
              "      <td>1000</td>\n",
              "    </tr>\n",
              "  </tbody>\n",
              "</table>\n",
              "</div>\n",
              "      <button class=\"colab-df-convert\" onclick=\"convertToInteractive('df-a05652cd-7693-494a-954d-5d5ec4b16360')\"\n",
              "              title=\"Convert this dataframe to an interactive table.\"\n",
              "              style=\"display:none;\">\n",
              "        \n",
              "  <svg xmlns=\"http://www.w3.org/2000/svg\" height=\"24px\"viewBox=\"0 0 24 24\"\n",
              "       width=\"24px\">\n",
              "    <path d=\"M0 0h24v24H0V0z\" fill=\"none\"/>\n",
              "    <path d=\"M18.56 5.44l.94 2.06.94-2.06 2.06-.94-2.06-.94-.94-2.06-.94 2.06-2.06.94zm-11 1L8.5 8.5l.94-2.06 2.06-.94-2.06-.94L8.5 2.5l-.94 2.06-2.06.94zm10 10l.94 2.06.94-2.06 2.06-.94-2.06-.94-.94-2.06-.94 2.06-2.06.94z\"/><path d=\"M17.41 7.96l-1.37-1.37c-.4-.4-.92-.59-1.43-.59-.52 0-1.04.2-1.43.59L10.3 9.45l-7.72 7.72c-.78.78-.78 2.05 0 2.83L4 21.41c.39.39.9.59 1.41.59.51 0 1.02-.2 1.41-.59l7.78-7.78 2.81-2.81c.8-.78.8-2.07 0-2.86zM5.41 20L4 18.59l7.72-7.72 1.47 1.35L5.41 20z\"/>\n",
              "  </svg>\n",
              "      </button>\n",
              "      \n",
              "  <style>\n",
              "    .colab-df-container {\n",
              "      display:flex;\n",
              "      flex-wrap:wrap;\n",
              "      gap: 12px;\n",
              "    }\n",
              "\n",
              "    .colab-df-convert {\n",
              "      background-color: #E8F0FE;\n",
              "      border: none;\n",
              "      border-radius: 50%;\n",
              "      cursor: pointer;\n",
              "      display: none;\n",
              "      fill: #1967D2;\n",
              "      height: 32px;\n",
              "      padding: 0 0 0 0;\n",
              "      width: 32px;\n",
              "    }\n",
              "\n",
              "    .colab-df-convert:hover {\n",
              "      background-color: #E2EBFA;\n",
              "      box-shadow: 0px 1px 2px rgba(60, 64, 67, 0.3), 0px 1px 3px 1px rgba(60, 64, 67, 0.15);\n",
              "      fill: #174EA6;\n",
              "    }\n",
              "\n",
              "    [theme=dark] .colab-df-convert {\n",
              "      background-color: #3B4455;\n",
              "      fill: #D2E3FC;\n",
              "    }\n",
              "\n",
              "    [theme=dark] .colab-df-convert:hover {\n",
              "      background-color: #434B5C;\n",
              "      box-shadow: 0px 1px 3px 1px rgba(0, 0, 0, 0.15);\n",
              "      filter: drop-shadow(0px 1px 2px rgba(0, 0, 0, 0.3));\n",
              "      fill: #FFFFFF;\n",
              "    }\n",
              "  </style>\n",
              "\n",
              "      <script>\n",
              "        const buttonEl =\n",
              "          document.querySelector('#df-a05652cd-7693-494a-954d-5d5ec4b16360 button.colab-df-convert');\n",
              "        buttonEl.style.display =\n",
              "          google.colab.kernel.accessAllowed ? 'block' : 'none';\n",
              "\n",
              "        async function convertToInteractive(key) {\n",
              "          const element = document.querySelector('#df-a05652cd-7693-494a-954d-5d5ec4b16360');\n",
              "          const dataTable =\n",
              "            await google.colab.kernel.invokeFunction('convertToInteractive',\n",
              "                                                     [key], {});\n",
              "          if (!dataTable) return;\n",
              "\n",
              "          const docLinkHtml = 'Like what you see? Visit the ' +\n",
              "            '<a target=\"_blank\" href=https://colab.research.google.com/notebooks/data_table.ipynb>data table notebook</a>'\n",
              "            + ' to learn more about interactive tables.';\n",
              "          element.innerHTML = '';\n",
              "          dataTable['output_type'] = 'display_data';\n",
              "          await google.colab.output.renderOutput(dataTable, element);\n",
              "          const docLink = document.createElement('div');\n",
              "          docLink.innerHTML = docLinkHtml;\n",
              "          element.appendChild(docLink);\n",
              "        }\n",
              "      </script>\n",
              "    </div>\n",
              "  </div>\n",
              "  "
            ]
          },
          "metadata": {},
          "execution_count": 10
        }
      ]
    },
    {
      "cell_type": "code",
      "source": [
        "all_data.info()"
      ],
      "metadata": {
        "colab": {
          "base_uri": "https://localhost:8080/"
        },
        "id": "rvJLLpqEq3kh",
        "outputId": "10ec1ddb-e598-4bac-aeb8-a0ce637725bb"
      },
      "execution_count": null,
      "outputs": [
        {
          "output_type": "stream",
          "name": "stdout",
          "text": [
            "<class 'pandas.core.frame.DataFrame'>\n",
            "RangeIndex: 22000 entries, 0 to 21999\n",
            "Data columns (total 2 columns):\n",
            " #   Column    Non-Null Count  Dtype \n",
            "---  ------    --------------  ----- \n",
            " 0   Text      22000 non-null  object\n",
            " 1   language  22000 non-null  object\n",
            "dtypes: object(2)\n",
            "memory usage: 343.9+ KB\n"
          ]
        }
      ]
    },
    {
      "cell_type": "code",
      "source": [
        "all_data[all_data.duplicated()]"
      ],
      "metadata": {
        "colab": {
          "base_uri": "https://localhost:8080/",
          "height": 423
        },
        "id": "S3V93tXyrWEm",
        "outputId": "c7b3f9b9-5340-4ddd-f34a-9a6277d53565"
      },
      "execution_count": null,
      "outputs": [
        {
          "output_type": "execute_result",
          "data": {
            "text/plain": [
              "                                                    Text    language\n",
              "410    bisby fa roskov yr orrell tm nicolson d paglin...  Indonesian\n",
              "581    haec commentatio automatice praeparata res ast...       Latin\n",
              "1012   haec commentatio automatice praeparata res ast...       Latin\n",
              "1027   bisby fa roskov yr orrell tm nicolson d paglin...  Indonesian\n",
              "1460   haec commentatio automatice praeparata res ast...       Latin\n",
              "...                                                  ...         ...\n",
              "21427  seperti asteroid secara keseluruhan asteroid i...  Indonesian\n",
              "21440  كباقي كويكبات معسكر الإغريق يقع مداره في النقط...      Arabic\n",
              "21667  خواص - نسبتا اسيدي خواص لري په اوبو کى منحل دي...      Pushto\n",
              "21739  இவ்வூர் கடல்மட்டத்தில் இருந்து சராசரியாக  மீட்...       Tamil\n",
              "21743  haec commentatio automatice praeparata res ast...       Latin\n",
              "\n",
              "[141 rows x 2 columns]"
            ],
            "text/html": [
              "\n",
              "  <div id=\"df-c06d0964-20e8-42c6-8a67-6599ff98866e\">\n",
              "    <div class=\"colab-df-container\">\n",
              "      <div>\n",
              "<style scoped>\n",
              "    .dataframe tbody tr th:only-of-type {\n",
              "        vertical-align: middle;\n",
              "    }\n",
              "\n",
              "    .dataframe tbody tr th {\n",
              "        vertical-align: top;\n",
              "    }\n",
              "\n",
              "    .dataframe thead th {\n",
              "        text-align: right;\n",
              "    }\n",
              "</style>\n",
              "<table border=\"1\" class=\"dataframe\">\n",
              "  <thead>\n",
              "    <tr style=\"text-align: right;\">\n",
              "      <th></th>\n",
              "      <th>Text</th>\n",
              "      <th>language</th>\n",
              "    </tr>\n",
              "  </thead>\n",
              "  <tbody>\n",
              "    <tr>\n",
              "      <th>410</th>\n",
              "      <td>bisby fa roskov yr orrell tm nicolson d paglin...</td>\n",
              "      <td>Indonesian</td>\n",
              "    </tr>\n",
              "    <tr>\n",
              "      <th>581</th>\n",
              "      <td>haec commentatio automatice praeparata res ast...</td>\n",
              "      <td>Latin</td>\n",
              "    </tr>\n",
              "    <tr>\n",
              "      <th>1012</th>\n",
              "      <td>haec commentatio automatice praeparata res ast...</td>\n",
              "      <td>Latin</td>\n",
              "    </tr>\n",
              "    <tr>\n",
              "      <th>1027</th>\n",
              "      <td>bisby fa roskov yr orrell tm nicolson d paglin...</td>\n",
              "      <td>Indonesian</td>\n",
              "    </tr>\n",
              "    <tr>\n",
              "      <th>1460</th>\n",
              "      <td>haec commentatio automatice praeparata res ast...</td>\n",
              "      <td>Latin</td>\n",
              "    </tr>\n",
              "    <tr>\n",
              "      <th>...</th>\n",
              "      <td>...</td>\n",
              "      <td>...</td>\n",
              "    </tr>\n",
              "    <tr>\n",
              "      <th>21427</th>\n",
              "      <td>seperti asteroid secara keseluruhan asteroid i...</td>\n",
              "      <td>Indonesian</td>\n",
              "    </tr>\n",
              "    <tr>\n",
              "      <th>21440</th>\n",
              "      <td>كباقي كويكبات معسكر الإغريق يقع مداره في النقط...</td>\n",
              "      <td>Arabic</td>\n",
              "    </tr>\n",
              "    <tr>\n",
              "      <th>21667</th>\n",
              "      <td>خواص - نسبتا اسيدي خواص لري په اوبو کى منحل دي...</td>\n",
              "      <td>Pushto</td>\n",
              "    </tr>\n",
              "    <tr>\n",
              "      <th>21739</th>\n",
              "      <td>இவ்வூர் கடல்மட்டத்தில் இருந்து சராசரியாக  மீட்...</td>\n",
              "      <td>Tamil</td>\n",
              "    </tr>\n",
              "    <tr>\n",
              "      <th>21743</th>\n",
              "      <td>haec commentatio automatice praeparata res ast...</td>\n",
              "      <td>Latin</td>\n",
              "    </tr>\n",
              "  </tbody>\n",
              "</table>\n",
              "<p>141 rows × 2 columns</p>\n",
              "</div>\n",
              "      <button class=\"colab-df-convert\" onclick=\"convertToInteractive('df-c06d0964-20e8-42c6-8a67-6599ff98866e')\"\n",
              "              title=\"Convert this dataframe to an interactive table.\"\n",
              "              style=\"display:none;\">\n",
              "        \n",
              "  <svg xmlns=\"http://www.w3.org/2000/svg\" height=\"24px\"viewBox=\"0 0 24 24\"\n",
              "       width=\"24px\">\n",
              "    <path d=\"M0 0h24v24H0V0z\" fill=\"none\"/>\n",
              "    <path d=\"M18.56 5.44l.94 2.06.94-2.06 2.06-.94-2.06-.94-.94-2.06-.94 2.06-2.06.94zm-11 1L8.5 8.5l.94-2.06 2.06-.94-2.06-.94L8.5 2.5l-.94 2.06-2.06.94zm10 10l.94 2.06.94-2.06 2.06-.94-2.06-.94-.94-2.06-.94 2.06-2.06.94z\"/><path d=\"M17.41 7.96l-1.37-1.37c-.4-.4-.92-.59-1.43-.59-.52 0-1.04.2-1.43.59L10.3 9.45l-7.72 7.72c-.78.78-.78 2.05 0 2.83L4 21.41c.39.39.9.59 1.41.59.51 0 1.02-.2 1.41-.59l7.78-7.78 2.81-2.81c.8-.78.8-2.07 0-2.86zM5.41 20L4 18.59l7.72-7.72 1.47 1.35L5.41 20z\"/>\n",
              "  </svg>\n",
              "      </button>\n",
              "      \n",
              "  <style>\n",
              "    .colab-df-container {\n",
              "      display:flex;\n",
              "      flex-wrap:wrap;\n",
              "      gap: 12px;\n",
              "    }\n",
              "\n",
              "    .colab-df-convert {\n",
              "      background-color: #E8F0FE;\n",
              "      border: none;\n",
              "      border-radius: 50%;\n",
              "      cursor: pointer;\n",
              "      display: none;\n",
              "      fill: #1967D2;\n",
              "      height: 32px;\n",
              "      padding: 0 0 0 0;\n",
              "      width: 32px;\n",
              "    }\n",
              "\n",
              "    .colab-df-convert:hover {\n",
              "      background-color: #E2EBFA;\n",
              "      box-shadow: 0px 1px 2px rgba(60, 64, 67, 0.3), 0px 1px 3px 1px rgba(60, 64, 67, 0.15);\n",
              "      fill: #174EA6;\n",
              "    }\n",
              "\n",
              "    [theme=dark] .colab-df-convert {\n",
              "      background-color: #3B4455;\n",
              "      fill: #D2E3FC;\n",
              "    }\n",
              "\n",
              "    [theme=dark] .colab-df-convert:hover {\n",
              "      background-color: #434B5C;\n",
              "      box-shadow: 0px 1px 3px 1px rgba(0, 0, 0, 0.15);\n",
              "      filter: drop-shadow(0px 1px 2px rgba(0, 0, 0, 0.3));\n",
              "      fill: #FFFFFF;\n",
              "    }\n",
              "  </style>\n",
              "\n",
              "      <script>\n",
              "        const buttonEl =\n",
              "          document.querySelector('#df-c06d0964-20e8-42c6-8a67-6599ff98866e button.colab-df-convert');\n",
              "        buttonEl.style.display =\n",
              "          google.colab.kernel.accessAllowed ? 'block' : 'none';\n",
              "\n",
              "        async function convertToInteractive(key) {\n",
              "          const element = document.querySelector('#df-c06d0964-20e8-42c6-8a67-6599ff98866e');\n",
              "          const dataTable =\n",
              "            await google.colab.kernel.invokeFunction('convertToInteractive',\n",
              "                                                     [key], {});\n",
              "          if (!dataTable) return;\n",
              "\n",
              "          const docLinkHtml = 'Like what you see? Visit the ' +\n",
              "            '<a target=\"_blank\" href=https://colab.research.google.com/notebooks/data_table.ipynb>data table notebook</a>'\n",
              "            + ' to learn more about interactive tables.';\n",
              "          element.innerHTML = '';\n",
              "          dataTable['output_type'] = 'display_data';\n",
              "          await google.colab.output.renderOutput(dataTable, element);\n",
              "          const docLink = document.createElement('div');\n",
              "          docLink.innerHTML = docLinkHtml;\n",
              "          element.appendChild(docLink);\n",
              "        }\n",
              "      </script>\n",
              "    </div>\n",
              "  </div>\n",
              "  "
            ]
          },
          "metadata": {},
          "execution_count": 12
        }
      ]
    },
    {
      "cell_type": "code",
      "source": [
        "all_data.drop_duplicates(inplace=True)"
      ],
      "metadata": {
        "id": "mkQQOIrUrbIv"
      },
      "execution_count": null,
      "outputs": []
    },
    {
      "cell_type": "code",
      "source": [
        "all_data.columns = [column.lower() for column in all_data.columns]"
      ],
      "metadata": {
        "id": "HAjIe7_Xr7zU"
      },
      "execution_count": null,
      "outputs": []
    },
    {
      "cell_type": "code",
      "source": [
        "all_data['language'] = all_data['language'].astype(dtype='category')"
      ],
      "metadata": {
        "id": "rEvKrjYar-1B"
      },
      "execution_count": null,
      "outputs": []
    },
    {
      "cell_type": "code",
      "source": [
        "all_data.info()"
      ],
      "metadata": {
        "colab": {
          "base_uri": "https://localhost:8080/"
        },
        "id": "fxXp9dWVsGsp",
        "outputId": "c592e714-73ac-419d-cc39-d7472dd23e8f"
      },
      "execution_count": null,
      "outputs": [
        {
          "output_type": "stream",
          "name": "stdout",
          "text": [
            "<class 'pandas.core.frame.DataFrame'>\n",
            "Int64Index: 21859 entries, 0 to 21999\n",
            "Data columns (total 2 columns):\n",
            " #   Column    Non-Null Count  Dtype   \n",
            "---  ------    --------------  -----   \n",
            " 0   text      21859 non-null  object  \n",
            " 1   language  21859 non-null  category\n",
            "dtypes: category(1), object(1)\n",
            "memory usage: 363.6+ KB\n"
          ]
        }
      ]
    },
    {
      "cell_type": "code",
      "source": [
        "all_data['language'].value_counts()"
      ],
      "metadata": {
        "colab": {
          "base_uri": "https://localhost:8080/"
        },
        "id": "Arkm_x0KsQGv",
        "outputId": "15c5b145-ce55-44b7-a843-3509e551b17a"
      },
      "execution_count": null,
      "outputs": [
        {
          "output_type": "execute_result",
          "data": {
            "text/plain": [
              "Persian       1000\n",
              "Japanese      1000\n",
              "Turkish       1000\n",
              "Thai          1000\n",
              "Romanian      1000\n",
              "Chinese       1000\n",
              "Korean        1000\n",
              "Urdu          1000\n",
              "English       1000\n",
              "Estonian       999\n",
              "Russian        999\n",
              "Arabic         998\n",
              "Portugese      997\n",
              "Spanish        996\n",
              "Dutch          996\n",
              "Pushto         993\n",
              "Swedish        992\n",
              "Hindi          990\n",
              "French         990\n",
              "Tamil          981\n",
              "Indonesian     975\n",
              "Latin          953\n",
              "Name: language, dtype: int64"
            ]
          },
          "metadata": {},
          "execution_count": 17
        }
      ]
    },
    {
      "cell_type": "code",
      "source": [
        "plt.figure(figsize=(10, 8))\n",
        "plt.pie(x=all_data['language'].value_counts(), labels=all_data['language'].value_counts().index, autopct='%.2f%%',\n",
        "        shadow=True, colors=sns.color_palette('bright'))\n",
        "plt.title(label='Language distribution')"
      ],
      "metadata": {
        "colab": {
          "base_uri": "https://localhost:8080/",
          "height": 500
        },
        "id": "o1JBYN0btp7x",
        "outputId": "756fbf4c-6434-46f1-b889-674942996dd6"
      },
      "execution_count": null,
      "outputs": [
        {
          "output_type": "execute_result",
          "data": {
            "text/plain": [
              "Text(0.5, 1.0, 'Language distribution')"
            ]
          },
          "metadata": {},
          "execution_count": 19
        },
        {
          "output_type": "display_data",
          "data": {
            "text/plain": [
              "<Figure size 720x576 with 1 Axes>"
            ],
            "image/png": "[encoded data removed]"
          },
          "metadata": {}
        }
      ]
    },
    {
      "cell_type": "code",
      "source": [
        "X_train, X_test, y_train, y_test = train_test_split(all_data['text'], all_data['language'], test_size=0.2, random_state=42)"
      ],
      "metadata": {
        "id": "EkUgyv6TvHbc"
      },
      "execution_count": null,
      "outputs": []
    },
    {
      "cell_type": "code",
      "source": [
        "print(f'X_train shape: {X_train.shape}')\n",
        "print(f'X_test shape: {X_test.shape}')\n",
        "print(f'y_train shape: {y_train.shape}')\n",
        "print(f'y_test shape: {y_test.shape}')"
      ],
      "metadata": {
        "colab": {
          "base_uri": "https://localhost:8080/"
        },
        "id": "xf8VWabHvWUD",
        "outputId": "ea20e638-958d-4d2c-c188-0aee2797acdb"
      },
      "execution_count": null,
      "outputs": [
        {
          "output_type": "stream",
          "name": "stdout",
          "text": [
            "X_train shape: (17487,)\n",
            "X_test shape: (4372,)\n",
            "y_train shape: (17487,)\n",
            "y_test shape: (4372,)\n"
          ]
        }
      ]
    },
    {
      "cell_type": "code",
      "source": [
        "vectorizer = TfidfVectorizer(max_features=3000)"
      ],
      "metadata": {
        "id": "iwiJlr27w4lR"
      },
      "execution_count": null,
      "outputs": []
    },
    {
      "cell_type": "code",
      "source": [
        "X_train = vectorizer.fit_transform(raw_documents=X_train).toarray()\n",
        "X_test = vectorizer.transform(raw_documents=X_test).toarray()"
      ],
      "metadata": {
        "id": "x32jtfNixErP"
      },
      "execution_count": null,
      "outputs": []
    },
    {
      "cell_type": "code",
      "source": [
        "print(f'X_train shape: {X_train.shape}')\n",
        "print(f'X_test shape: {X_test.shape}')\n",
        "print(f'Vectorizer vocabulary: {vectorizer.vocabulary_}')"
      ],
      "metadata": {
        "colab": {
          "base_uri": "https://localhost:8080/"
        },
        "id": "Bh37ZKSOxQCf",
        "outputId": "97f8a70d-851d-4d4b-f71e-c32564a4bf51"
      },
      "execution_count": null,
      "outputs": [
        {
          "output_type": "stream",
          "name": "stdout",
          "text": [
            "X_train shape: (17487, 3000)\n",
            "X_test shape: (4372, 3000)\n",
            "Vectorizer vocabulary: {'când': 255, 'se': 1036, 'sau': 1033, 'la': 639, 'cu': 248, 'este': 386, 'mai': 684, 'ca': 183, 'să': 1163, 'în': 1389, 'fața': 405, 'pentru': 902, 'că': 256, 'această': 11, 'pe': 897, 'de': 274, 'ce': 195, 'al': 31, 'și': 1402, 'prin': 949, 'от': 1442, 'из': 1421, 'также': 1456, 'года': 1411, 'os': 866, 'seus': 1080, 'são': 1157, 'ou': 870, 'தன': 2675, 'தம': 2678, 'அர': 2579, 'என': 2627, 'ஊர': 2623, 'ஒர': 2632, 'பத': 2696, 'றந': 2736, 'தந': 2674, 'இந': 2606, 'ஆய': 2594, 'ளர': 2753, 'பண': 2695, 'வக': 2756, 'வர': 2765, 'மட': 2711, 'பட': 2694, 'இல': 2612, 'இவர': 2615, 'இரண': 2611, 'கள': 2647, 'சத': 2653, 'பக': 2692, 'அவர': 2587, 'யர': 2725, 'ரத': 2731, 'சப': 2656, 'ஆர': 2595, 'யம': 2724, 'பவர': 2708, 'அதன': 2574, 'றக': 2734, 'கழ': 2649, 'லப': 2745, 'டன': 2663, 'கவ': 2650, 'கல': 2645, 'கத': 2639, 'தய': 2679, 'கப': 2641, 'தல': 2682, 'இச': 2599, 'கர': 2643, 'année': 60, 'le': 650, 'du': 328, 'premier': 937, 'au': 109, 'en': 363, 'heuer': 509, 'avec': 119, 'et': 389, 'temps': 1189, 'une': 1264, 'ces': 207, 'pour': 933, 'comme': 231, 'paul': 893, 'deux': 296, 'années': 61, 'sont': 1115, 'que': 971, 'un': 1258, 'il': 537, 'par': 880, 'siècle': 1097, 'les': 655, 'lui': 675, 'est': 381, 'lors': 670, 'son': 1112, 'aux': 116, 'dans': 265, 'première': 938, 'grand': 470, 'alors': 43, 'puis': 960, 'por': 930, 'van': 1286, 'foi': 422, 'um': 1255, 'พศ': 2848, 'ได': 2920, 'แล': 2909, 'งป': 2797, 'กษ': 2779, 'โดยม': 2914, 'เป': 2897, 'tres': 1240, 'grandes': 472, 'el': 354, 'más': 765, 'es': 376, 'desde': 290, 'hasta': 497, 'del': 278, 'los': 671, 'francia': 433, 'oli': 839, 'ja': 577, 'või': 1314, 'kucing': 627, 'yang': 1354, 'di': 300, 'dalam': 262, 'rumah': 1008, 'harus': 495, 'atau': 104, 'juga': 591, 'tempat': 1186, 'bagi': 128, 'untuk': 1274, 'hal': 488, 'ini': 554, 'karena': 602, 'pada': 877, 'dapat': 266, 'dan': 264, 'tidak': 1216, 'akan': 30, 'banyak': 136, 'இத': 2604, 'அம': 2578, 'பர': 2702, 'டர': 2667, 'பரப': 2703, 'றத': 2735, 'யன': 2722, 'உள': 2622, 'நட': 2687, 'adalah': 17, 'islam': 567, 'kristen': 626, 'tahun': 1167, 'from': 439, 'new': 789, 'york': 1363, 'in': 543, 'and': 52, 'angeles': 55, 'the': 1205, 'film': 414, 'american': 47, 'as': 91, 'of': 830, 'november': 814, 'it': 569, 'had': 486, 'on': 848, 'with': 1344, 'an': 49, 'is': 565, 'action': 14, 'he': 500, 'has': 496, 'which': 1335, 'both': 174, 'his': 515, 'work': 1348, 'but': 180, 'for': 426, 'well': 1326, 'time': 1221, 'john': 585, 'this': 1212, 'to': 1225, 'air': 28, 'into': 561, 'their': 1206, 'own': 875, 'its': 573, 'times': 1222, 'not': 810, 'be': 142, 'one': 851, 'best': 157, 'season': 1038, 'us': 1278, 'naam': 770, 'het': 508, 'plaats': 916, 'een': 345, 'zijn': 1370, 'eerste': 347, 'die': 303, 'was': 1320, 'werd': 1327, 'pas': 889, 'als': 44, 'zich': 1369, 'met': 729, 'nuevo': 818, 'rio': 995, 'grande': 471, 'nieuwe': 792, 'echter': 343, 'weer': 1325, 'onder': 850, 'veel': 1294, 'bij': 163, 'over': 874, 'hebben': 502, 'उद': 2389, 'उपय': 2393, 'और': 2405, 'पट': 2468, 'एक': 2399, 'रव': 2522, 'करन': 2418, 'यक': 2500, 'रम': 2519, 'आत': 2367, 'गय': 2430, 'अपन': 2356, 'बस': 2487, 'इट': 2379, 'पर': 2473, 'पद': 2471, 'इन': 2380, 'आय': 2373, 'करत': 2417, 'na': 769, 'door': 323, 'anti': 69, 'deze': 299, 'tot': 1233, 'dat': 270, 'voor': 1309, 'jaar': 578, 'deel': 277, 'worden': 1346, '가장': 2930, '하지만': 2994, '있다': 2986, '있는': 2985, '것을': 2935, 'محمد': 2036, 'یو': 2341, 'چي': 2240, 'هېواد': 2150, 'په': 2213, 'کي': 2292, 'ټولو': 2205, 'یې': 2349, 'نه': 2109, 'کېږي': 2310, 'سره': 1858, 'او': 1584, 'نورو': 2112, 'ته': 1688, 'دی': 1812, 'மக': 2709, 'கணக': 2638, 'இங': 2598, 'ஆண': 2591, 'சர': 2658, 'யற': 2726, 'ஆக': 2588, 'யத': 2721, 'ஆற': 2596, 'रत': 2514, 'पश': 2474, 'रन': 2517, 'यह': 2508, 'समस': 2560, 'आद': 2368, 'अन': 2354, 'तत': 2450, 'कट': 2407, 'genus': 457, 'australia': 114, 'यद': 2502, 'आध': 2369, 'रय': 2521, 'उनक': 2391, 'रण': 2513, 'तन': 2452, 'पह': 2476, 'अब': 2358, 'वह': 2542, 'इस': 2383, 'घटन': 2433, 'कई': 2406, 'रक': 2509, 'सक': 2551, 'महत': 2499, 'सबस': 2556, 'गण': 2428, 'बत': 2483, 'हर': 2567, 'भव': 2490, 'सम': 2558, 'लगत': 2529, 'इसक': 2384, 'रभ': 2518, 'नह': 2466, 'अत': 2352, 'आस': 2376, 'बन': 2484, 'یکی': 2345, 'از': 1506, 'مناطق': 2069, 'زرند': 1837, 'منطقه': 2072, 'در': 1786, 'شرق': 1896, 'قرار': 1993, 'دارد': 1778, 'که': 2283, 'دارای': 1777, 'ها': 2124, 'قلعه': 1995, 'هایی': 2126, 'قدیمی': 1992, 'می': 2085, 'باشد': 1607, '때문에': 2959, '같은': 2931, 'این': 1600, 'به': 1639, 'گروه': 2318, 'تعلق': 1677, 'بر': 1617, 'است': 1509, 'های': 2125, 'دور': 1801, 'خورشید': 1765, 'کیلومتر': 2306, 'رنگ': 1826, 'سی': 1881, 'شود': 1910, 'paspor': 891, 'indonesia': 550, 'oleh': 838, 'negeri': 787, 'hanya': 492, 'kepada': 613, 'negara': 786, 'leur': 656, 'jean': 583, 'louis': 672, 'pierre': 915, 'robert': 998, 'är': 1377, 'den': 281, 'ligger': 659, 'och': 829, 'delen': 279, 'av': 117, 'landet': 644, 'km': 620, 'väster': 1312, 'om': 845, 'huvudstaden': 524, 'meter': 730, 'över': 1394, 'havet': 499, 'کال': 2261, 'شو': 1909, 'هم': 2138, 'तम': 2454, 'पहल': 2479, 'नक': 2461, 'by': 181, 'that': 1204, 'because': 146, 'were': 1329, 'out': 871, 'such': 1145, 'federal': 408, 'snake': 1099, 'war': 1318, 'only': 852, 'at': 102, 'during': 336, 'world': 1349, 'iii': 534, 'became': 145, 'who': 1338, 'these': 1210, 'than': 1203, 'west': 1330, 'no': 795, 'population': 929, 'being': 149, 'هو': 2147, 'في': 1979, 'التي': 1535, 'عدد': 1943, 'erat': 374, 'quae': 967, 'urbs': 1277, 'anno': 58, 'augusti': 111, 'pro': 952, '이후': 2981, '그는': 2941, '것은': 2934, '하고': 2991, 'なお': 2923, 'spesies': 1124, 'familia': 399, 'merupakan': 727, 'bagian': 129, 'dari': 268, 'ordo': 864, 'kelas': 608, 'kingdom': 618, 'power': 934, 'rangers': 979, 'hun': 521, 'maar': 679, 'wordt': 1347, 'uit': 1254, 'super': 1150, 'serie': 1070, 'af': 20, 'er': 371, 'amerika': 48, 'dit': 314, 'da': 258, 'aantal': 1, 'inwoners': 563, 'em': 361, 'com': 230, 'das': 269, 'nos': 808, 'anos': 64, 'do': 318, 'século': 1159, 'xx': 1351, 'igreja': 532, 'arte': 89, 'como': 233, 'foram': 427, 'para': 881, 'کاؤنٹی': 2258, 'انگریزی': 1581, 'township': 1237, 'county': 246, 'ریاستہائے': 1834, 'متحدہ': 2027, 'امریکا': 1567, 'کا': 2257, 'ایک': 1601, 'جو': 1728, 'میں': 2090, 'واقع': 2154, 'ہے': 2336, 'prima': 943, 'care': 192, 'după': 334, 'nu': 817, 'avea': 118, 'كان': 1996, 'قد': 1990, 'على': 1954, 'فإن': 1972, 'هي': 2149, 'لم': 2010, 'هذه': 2129, 'بل': 1634, 'من': 2067, 'وقد': 2172, 'ذلك': 1817, 'نقل': 2106, 'escudo': 377, 'ao': 72, 'armas': 86, 'seu': 1079, 'todo': 1227, 'apenas': 74, 'dos': 324, 'pode': 924, 'ser': 1068, 'outros': 872, 'tv': 1245, 'series': 1071, 've': 1293, 'estado': 383, 'una': 1259, 'las': 646, 'romanos': 1005, 'romano': 1004, 'شمالی': 1902, 'رقبہ': 1825, 'مربع': 2042, 'کیلومیٹر': 2307, 'اور': 1587, 'اس': 1507, 'کی': 2304, 'مجموعی': 2034, 'آبادی': 1468, 'افراد': 1526, 'پر': 2211, 'مشتمل': 2053, 'میٹر': 2089, 'سطح': 1859, 'سمندر': 1865, 'سے': 1884, 'بلندی': 1635, 'تر': 1671, 'کيږي': 2293, 'چې': 2243, 'پښتو': 2219, 'کې': 2309, 'دا': 1772, 'اوس': 1588, 'شوې': 1917, 'ده': 1796, 'خو': 1762, 'دې': 1815, 'له': 2011, 'علم': 1952, 'سياسي': 1876, 'بيا': 1646, 'يې': 2203, 'ورته': 2164, 'لري': 2009, 'на': 1433, 'до': 1415, 'что': 1464, 'году': 1412, 'во': 1408, 'время': 1409, 'quelques': 972, 'france': 432, 'des': 288, 'qui': 973, 'ses': 1074, 'sa': 1013, 'elle': 359, 'même': 768, 'cette': 209, 'fut': 444, 'plus': 920, 'entre': 366, 'grupo': 475, 'nacional': 772, 'ciudad': 220, 'con': 236, 'fin': 416, 'había': 485, 'país': 896, 'นต': 2824, 'วย': 2859, 'นอ': 2837, 'นด': 2822, 'อว': 2879, 'มพ': 2851, 'กก': 2771, 'บด': 2844, 'เพ': 2898, 'อเป': 2883, 'johnson': 586, 'long': 668, 'charles': 211, 'social': 1103, 'made': 681, 'several': 1081, 'william': 1341, 'also': 45, 'called': 187, 'him': 513, 'there': 1209, 'other': 867, 'or': 859, 'member': 718, 'including': 545, 'der': 287, 'united': 1269, 'states': 1131, 'later': 647, 'many': 690, 'years': 1357, 'after': 21, 'when': 1333, 'life': 657, 'said': 1017, 'have': 498, 'dont': 322, 'you': 1364, 'design': 291, 'building': 177, 'what': 1332, 'tweede': 1248, 'مراد': 2041, 'والی': 2156, 'دو': 1800, 'جن': 1722, 'کے': 2311, 'طور': 1934, 'استعمال': 1513, 'ہو': 2325, 'رہا': 1831, 'یہ': 2346, 'ان': 1569, 'لیے': 2019, 'ہونے': 2332, 'کم': 2278, 'تک': 1697, 'ہیں': 2335, 'ہی': 2334, 'یا': 2337, 'ہوتی': 2330, 'عام': 1937, 'کیا': 2305, 'گیا': 2321, 'کہ': 2302, 'طرح': 1931, 'وقت': 2171, 'کئی': 2256, 'پیدا': 2223, 'کر': 2265, 'اثر': 1499, 'tanto': 1173, 'أو': 1488, 'مثل': 2029, 'كل': 1998, 'مجموعة': 2032, 'لا': 2002, 'عن': 1964, 'تلك': 1683, 'ولكن': 2179, 'استخدام': 1512, 'فيها': 1981, 'إلى': 1493, 'real': 982, 'fiind': 413, 'are': 83, 'sur': 1151, 'où': 876, 'base': 139, 'dun': 331, 'mais': 686, 'dune': 332, 'depuis': 286, 'லத': 2744, 'உர': 2619, 'எழ': 2629, 'லம': 2746, 'ஆம': 2593, 'தப': 2677, '平成年': 2925, 'زيات': 1844, 'وي': 2188, 'ځکه': 2229, 'وخت': 2161, 'يا': 2194, 'بازار': 1605, 'ښه': 2255, 'نو': 2110, 'ذکر': 1818, 'کار': 2260, 'زړه': 1845, 'کوي': 2290, 'ډول': 2244, 'باندې': 1612, 'دى': 1809, 'ورکوي': 2167, 'اسلامي': 1518, 'سيستم': 1878, 'دي': 1810, 'شي': 1918, 'منځ': 2074, 'näiteks': 824, 'stad': 1128, 'drie': 327, 'president': 940, 'vanaf': 1287, 'hij': 512, 'raad': 976, 'tussen': 1244, 'te': 1179, 'school': 1035, 'company': 234, 'based': 140, 'same': 1024, 'year': 1356, 'released': 989, 'may': 709, 'كانت': 1997, 'بك': 1633, 'وكان': 2173, 'نحو': 2095, 'هذا': 2128, 'الذين': 1544, 'حد': 1736, 'غير': 1970, 'أن': 1486, 'بين': 1647, 'بسبب': 1625, 'مرة': 2044, 'أخرى': 1484, 'حيث': 1747, 'بعض': 1631, 'ثم': 1703, 'توجه': 1691, 'الذي': 1543, 'داسې': 1780, 'کوم': 2288, 'خوا': 1763, 'لاس': 2004, 'ددې': 1785, 'لپاره': 2015, 'ونه': 2183, 'وو': 2187, 'سو': 1870, 'حال': 1733, 'وکړ': 2191, 'دوی': 1808, 'هغه': 2134, 'خپلو': 1770, 'هر': 2130, 'څه': 2231, 'دغه': 1792, 'تاریخ': 1664, 'شوي': 1915, 'کړي': 2299, 'هند': 2146, 'خپل': 1768, 'ژوند': 2252, 'لاسه': 2005, 'کله': 2277, 'ټول': 2204, 'څو': 2232, 'également': 1384, 'partie': 887, 'ainsi': 27, 'pays': 895, 'director': 310, 'principal': 950, 'su': 1140, 'forma': 428, 'partir': 888, 'temporada': 1188, 'musical': 759, 'pero': 906, 'también': 1170, 'final': 417, 'años': 125, 'یعنی': 2340, 'آن': 1477, 'تا': 1661, 'نزدیک': 2097, 'اندازه': 1575, 'نیست': 2121, 'انرژی': 1576, 'را': 1820, 'راه': 1821, 'عبارت': 1938, 'دیگر': 1814, 'ناحیه': 2091, 'ای': 1596, 'مواد': 2078, 'آغاز': 1473, 'شده': 1894, 'بود': 1641, 'کند': 2280, 'با': 1602, 'توان': 1690, 'تنها': 1687, 'هوا': 2148, 'روی': 1830, 'جا': 1704, 'صورت': 1928, 'یک': 2344, 'آمده': 1475, 'ترین': 1673, 'بخش': 1616, 'باعث': 1609, 'ایجاد': 1597, 'شمال': 1901, 'جنوب': 1723, 'شکل': 1919, 'خود': 1764, 'mars': 696, 'back': 127, 'up': 1276, 'we': 1323, 'google': 467, 're': 981, 'like': 660, 'more': 746, 'しかし': 2922, 'また': 2924, 'اقتصادی': 1529, 'ملل': 2063, 'غرب': 1968, 'بحرین': 1615, 'میان': 2086, 'کشورهای': 2275, 'عرب': 1945, 'داشته': 1782, 'همچنین': 2143, 'جهان': 1726, 'سال': 1852, 'آزاد': 1472, 'أنه': 1487, 'أي': 1490, 'وزير': 2168, 'ما': 2021, 'سبب': 1855, 'تھی': 1699, 'جس': 1717, 'نے': 2123, 'کو': 2284, 'جنگ': 1725, 'دوران': 1802, 'حکومت': 1748, 'پارٹی': 2207, 'بھی': 1650, 'حاصل': 1732, 'عالم': 1936, 'بعد': 1630, 'جب': 1713, 'سن': 1866, 'ہوئے': 2327, 'تو': 1689, 'دنیا': 1795, 'دیا': 1813, 'نہیں': 2118, 'پھر': 2220, 'لوگوں': 2014, 'بے': 1659, 'اسے': 1521, 'لیکن': 2018, 'ملک': 2065, 'ہوا': 2328, 'کہا': 2303, 'جاتا': 1706, 'ضلع': 1930, 'جبکہ': 1714, 'پاکستان': 2209, 'سب': 1854, 'پہلے': 2221, 'kota': 624, 'kembali': 609, 'menjadi': 722, 'tanggal': 1172, 'tersebut': 1198, 'sebagai': 1039, 'hari': 494, 'tarakan': 1175, 'रश': 2523, 'षण': 2549, 'दक': 2457, 'वर': 2539, 'उन': 2390, 'अभ': 2359, 'तरह': 2456, 'अस': 2365, 'यर': 2505, 'अप': 2355, 'कर': 2415, 'सभ': 2557, 'तथ': 2451, 'टन': 2447, 'वल': 2540, 'आर': 2374, 'लग': 2528, 'बल': 2486, 'उस': 2396, 'सह': 2564, 'original': 865, 'cultura': 252, 'departamento': 284, 'historia': 516, 'universidad': 1270, 'الولايات': 1564, 'المتحدة': 1556, 'قال': 1985, 'الهجوم': 1561, 'تونس': 1694, 'مع': 2057, 'alia': 38, 'nomina': 801, 'italiane': 572, 'oppidum': 858, 'italiae': 571, 'municipium': 756, 'regione': 986, 'ac': 9, 'provincia': 955, 'situm': 1095, 'तर': 2455, 'अक': 2351, 'सर': 2561, 'इल': 2382, 'लत': 2531, 'अर': 2361, 'कम': 2414, 'era': 372, 'uma': 1256, 'mas': 699, 'nas': 778, 'ter': 1192, 'sido': 1086, 'liga': 658, 'pelos': 900, 'guerra': 476, 'roma': 1002, 'dois': 320, 'sobre': 1102, 'esta': 382, 'também': 1171, 'contra': 240, 'período': 911, 'cidade': 215, 'não': 823, 'caldas': 185, 'población': 923, 'donde': 321, 'capital': 191, 'vez': 1299, 'sus': 1152, 'mismo': 740, 'nombre': 798, 'asteroides': 97, 'equipo': 370, 'china': 213, 'เม': 2899, 'งกฤษ': 2788, 'ดต': 2810, 'นท': 2825, 'และเป': 2912, 'งได': 2804, 'นเด': 2840, 'ในช': 2917, 'นก': 2818, 'เด': 2894, 'หน': 2864, 'ใช': 2916, 'ทำให': 2817, 'mundo': 754, 'otros': 869, 'fueron': 442, 'ya': 1352, 'efter': 349, 'att': 106, 'alla': 40, 'program': 953, 'har': 493, 'det': 295, 'för': 446, 'dessa': 294, 'under': 1261, 'september': 1067, 'oktober': 831, 'där': 337, 'runt': 1009, 'som': 1110, 'ut': 1282, 'ta': 1165, 'till': 1220, 'ett': 392, 'बह': 2488, 'लन': 2532, 'यत': 2501, 'अध': 2353, 'सकत': 2552, 'दर': 2459, 'समय': 2559, 'मन': 2494, 'कल': 2419, 'köyde': 637, 'yoktur': 1361, 'şebekesi': 1401, 'ptt': 957, 'sağlık': 1034, 'yol': 1362, 'vardır': 1290, 'ehk': 350, 'kuni': 630, 'ka': 596, 'nende': 788, 'nad': 773, 'mis': 739, 'need': 785, 'المنطقة': 1559, 'مدينة': 2040, 'وذلك': 2162, 'مسجد': 2050, 'first': 421, 'lock': 665, 'street': 1135, 'london': 667, 'group': 473, 'صلح': 1926, 'سازمان': 1851, 'عضو': 1948, 'اساس': 1508, 'شورای': 1911, 'کشور': 2274, 'شد': 1891, 'گردید': 2315, 'ماه': 2024, 'مورد': 2080, 'حدود': 1737, 'درصد': 1789, 'کل': 2276, 'یافت': 2339, 'متحده': 2026, 'آمریکا': 1476, 'زبان': 1835, 'معنی': 2058, 'ہزار': 2323, 'جاتی': 1707, 'شخص': 1890, 'ہوں': 2333, 'اپنے': 1592, 'نظام': 2101, 'قائم': 1983, 'تھا': 1698, 'ساتھ': 1848, 'گئے': 2313, 'تھے': 1700, 'خان': 1752, 'علاقوں': 1949, 'تقسیم': 1681, 'sunt': 1149, 'ab': 6, 'cuius': 251, 'second': 1043, 'arts': 90, 'place': 917, 'press': 942, 'song': 1113, 'olmak': 842, 'üzere': 1398, 'aastal': 3, 'aastatel': 5, 'tartu': 1178, 'เร': 2901, 'ฐธรรมน': 2807, 'ญญ': 2806, 'บร': 2846, 'เน': 2896, 'ไม': 2921, 'เช': 2893, 'นน': 2828, 'งส': 2799, 'าร': 2887, 'นผ': 2830, 'อาร': 2882, 'าน': 2886, 'าง': 2884, 'งเป': 2802, 'வட': 2758, 'டம': 2665, 'மல': 2718, 'மற': 2717, 'டங': 2661, 'ளத': 2749, 'ஒன': 2631, 'யக': 2719, 'மங': 2710, 'unei': 1265, 'ani': 57, 'dar': 267, 'secara': 1042, 'utara': 1283, 'timur': 1224, 'dua': 329, 'yaitu': 1353, 'dengan': 282, 'wilayah': 1339, 'km²': 621, 'تنظيم': 1686, 'الدولة': 1540, 'السعودية': 1545, 'سید': 1883, 'زنجانی': 1841, 'بسیار': 1626, 'داشت': 1781, 'گفته': 2320, 'برای': 1619, 'ادامه': 1502, 'گرفت': 2316, 'موضوع': 2082, 'دست': 1791, 'قبل': 1988, 'موجود': 2079, 'بوده': 1643, 'تخم': 1669, 'کولو': 2287, 'کړی': 2300, 'څخه': 2230, 'استفاده': 1514, 'ځل': 2228, 'يو': 2200, 'چه': 2237, 'ضد': 1929, 'يي': 2202, 'نامه': 2094, 'وروسته': 2165, 'مقابل': 2059, 'کى': 2291, 'مقاومت': 2061, 'تطبيق': 1675, 'اوبو': 1586, 'ترسره': 1672, 'مقدار': 2062, 'لکه': 2016, 'شان': 1887, 'عمل': 1962, 'توګه': 1695, 'umum': 1257, 'nama': 774, 'sudah': 1147, 'sejak': 1052, 'co': 227, 'set': 1076, 'roman': 1003, 'between': 159, 'through': 1215, 'village': 1306, 'known': 622, 'most': 748, 'area': 84, 'been': 147, 'international': 559, 'east': 341, 'six': 1096, 'kg': 616, 'per': 904, 'ډير': 2245, 'ئي': 1495, 'خلاف': 1758, 'جانب': 1711, 'أحد': 1483, 'أكثر': 1485, 'david': 272, 'farrington': 403, 'número': 827, 'primeira': 944, 'cada': 184, 'após': 80, 'então': 367, 'vida': 1303, 'tem': 1184, 'pela': 898, '함께': 2996, '년에': 2947, '한다': 2995, '그러나': 2942, '月日': 2929, 'vattendrag': 1292, 'provinsen': 956, 'mayor': 710, 'นจ': 2820, 'กว': 2778, 'apple': 76, 'olarak': 833, 'bir': 165, 'küçük': 638, 'yer': 1359, 'gibi': 463, 'ile': 538, 'sonra': 1114, 'bu': 176, 'veya': 1298, 'matius': 704, 'yesus': 1360, 'mereka': 725, 'telah': 1182, 'itu': 574, 'semua': 1062, 'anak': 50, 'sampai': 1027, 'zaman': 1367, 'حق': 1744, 'نظر': 2103, 'قام': 1986, 'võib': 1315, 'din': 307, 'unde': 1260, 'ilk': 539, 'yıl': 1365, 'diğer': 316, 'arasında': 82, 'daha': 261, 'fazla': 404, 'aldı': 35, 'yılında': 1366, 'için': 576, 'olan': 832, 'etti': 393, 'நகர': 2685, 'கண': 2637, 'அல': 2582, 'சந': 2654, 'அந': 2575, 'பற': 2705, 'தத': 2673, 'அத': 2573, 'வன': 2763, 'வந': 2762, 'யவ': 2728, 'இர': 2610, 'அற': 2581, 'மர': 2716, 'அக': 2569, 'தவ': 2683, 'கட': 2635, 'இன': 2607, 'அட': 2571, 'யல': 2727, '되었다': 2954, '그리고': 2944, '불타는': 2968, 'olim': 841, 'designationibus': 292, 'agnitus': 24, 'systematis': 1156, 'solaris': 1106, 'nostri': 809, 'asteroidibus': 98, 'cinguli': 217, 'principalis': 951, 'attributus': 107, 'astronomis': 100, 'terrestribus': 1196, 'magnitudinem': 683, 'absolutam': 8, 'monstrat': 745, 'apud': 79, 'repertus': 991, 'orbitalium': 863, 'ratio': 980, 'epochae': 369, 'ianuarii': 528, 'constitit': 238, 'qua': 966, 'epocha': 368, 'dies': 304, 'circa': 218, 'solem': 1108, 'movebatur': 749, 'axem': 120, 'orbitalem': 861, 'habebat': 482, 'unitatum': 1268, 'astronomicarum': 99, 'eccentricitatem': 342, 'distans': 312, 'igitur': 531, 'sole': 1107, 'quam': 968, 'minime': 738, 'unitatibus': 1267, 'maxime': 708, 'inclinatio': 544, 'orbitalis': 862, 'reperiebatur': 990, 'anomalia': 63, 'media': 714, 'जन': 2439, 'वस': 2541, 'गए': 2427, 'रस': 2524, 'गल': 2432, 'घर': 2434, 'रज': 2512, 'रह': 2525, 'लय': 2533, 'वन': 2537, 'lee': 654, 'matrimonios': 706, 'matrimonio': 705, 'parte': 886, 'después': 293, 'aos': 73, 'tempo': 1187, 'assim': 94, 'quod': 975, 'علي': 1955, 'وفي': 2169, 'ذات': 1816, 'وهي': 2186, 'أيضا': 1491, 'طول': 1935, 'عند': 1965, 'تكون': 1682, 'यम': 2504, 'सरक': 2562, 'बच': 2480, 'तब': 2453, 'नम': 2463, 'نفر': 2104, 'جمعیت': 1718, 'dewan': 298, 'sebuah': 1041, 'ketika': 615, 'anggota': 56, 'segundo': 1049, 'material': 703, 'sydväst': 1154, 'talet': 1169, 'öster': 1393, 'även': 1378, 'marty': 698, 'tiene': 1217, 'está': 387, 'lo': 663, 'robot': 999, 'general': 453, 'control': 242, 'windows': 1343, 'ten': 1190, 'api': 75, 'alle': 41, 'andere': 53, 'علمي': 1953, 'ډېر': 2246, 'شمېر': 1904, 'چاپ': 2234, 'توگه': 1696, 'maior': 685, 'região': 987, 'muito': 750, 'ei': 351, 'kõige': 636, 'selle': 1058, 'alates': 33, 'kui': 628, 'это': 1465, 'как': 1425, 'группы': 1413, 'однако': 1439, 'velvet': 1296, 'underground': 1263, 'были': 1406, 'не': 1435, 'был': 1404, 'со': 1451, 'my': 762, 'eller': 360, 'var': 1289, 'han': 489, 'först': 447, 'från': 440, 'på': 964, 'vid': 1302, 'blev': 172, 'juni': 593, 'år': 1379, 'matthews': 707, 'multe': 752, 'keeles': 607, 'red': 985, 'league': 652, 'watson': 1322, 'தர': 2680, 'மம': 2715, 'ரம': 2732, 'னம': 2690, 'சம': 2657, 'எட': 2624, 'கம': 2642, 'எண': 2625, 'state': 1130, 'nog': 796, 'eran': 373, 'canada': 190, 'district': 313, 'anul': 70, 'locuitori': 666, 'cum': 253, 'aasta': 2, 'إلا': 1492, 'يمكن': 2198, 'طريق': 1933, 'خلال': 1759, 'المدينة': 1557, 'تعداد': 1676, '위해': 2975, '하는': 2992, 'cuando': 250, 'sale': 1022, 'vuelta': 1310, 'sig': 1088, 'med': 712, 'hon': 519, '이러한': 2979, 'ломоносова': 1429, 'ломоносов': 1428, 'تاريخ': 1663, 'الوطنية': 1563, 'حتى': 1735, 'زیادہ': 1846, 'علاوہ': 1951, 'اپنی': 1591, 'وجہ': 2160, 'کرتے': 2267, 'قتل': 1989, 'مختلف': 2039, 'op': 856, 'iar': 529, 'fost': 429, 'الإسلامية': 1531, 'التنظيم': 1534, 'tal': 1168, 'olid': 840, 'ning': 794, 'بی': 1652, 'مگر': 2084, 'الله': 1554, 'الدين': 1541, 'جميع': 1721, 'ولا': 2175, 'olduğunu': 837, 'dr': 326, 'ele': 356, 'tarafından': 1174, 'ise': 566, '된다': 2955, '다시': 2949, '있었다': 2987, '당시': 2950, '자신의': 2989, '힘을': 2999, '그의': 2945, '없는': 2971, '오크': 2974, '그를': 2943, '했다': 2997, 'black': 170, 'அரச': 2580, 'வண': 2759, 'கக': 2633, 'யப': 2723, 'sud': 1146, 'ville': 1307, 'يلوستون': 2197, 'هناك': 2145, 'تم': 1684, 'تحت': 1667, 'الوطني': 1562, 'จจ': 2805, 'ดส': 2812, 'อสร': 2881, 'งแต': 2803, 'นธ': 2827, 'alte': 46, 'asemenea': 92, 'जब': 2440, 'ऑक': 2403, 'ऐस': 2402, 'षत': 2550, 'system': 1155, 'ओर': 2404, 'पड': 2469, 'शर': 2547, 'रमण': 2520, 'अवध': 2364, 'मक': 2491, 'मस': 2497, 'يوه': 2201, 'نوم': 2115, 'اشاره': 1522, 'комиссии': 1426, 'سانچہقرآن': 1853, 'سورہ': 1873, 'آیت': 1481, 'ين': 2199, 'ال': 1530, 'الل': 1553, 'home': 518, 'against': 23, 'live': 662, 'obra': 828, 'bajo': 132, 'onun': 854, 'olduğu': 836, 'august': 110, 'win': 1342, 'played': 919, 'ook': 855, 'museum': 757, 'برخی': 1622, 'منابع': 2068, 'متر': 2028, 'تولید': 1693, 'نیز': 2120, 'قابل': 1984, 'انتخاب': 1570, 'همین': 2144, 'مجموعه': 2033, 'ایران': 1598, 'وی': 2193, 'نوع': 2114, 'هستند': 2132, 'توسط': 1692, 'چهار': 2238, 'شوند': 1913, 'за': 1420, 'haar': 481, 'naar': 771, 'ze': 1368, 'kwam': 635, 'via': 1300, 'aan': 0, 'radio': 977, 'fue': 441, 'tarde': 1176, 'durante': 335, 'siglo': 1089, 'puede': 959, 'bulunan': 179, 'tarihinde': 1177, 'هلته': 2137, 'سيمې': 1880, 'راځي': 1822, 'پورې': 2216, 'انسان': 1577, 'سنة': 1867, 'عشر': 1947, 'بها': 1640, 'وهو': 2185, 'بشكل': 1629, 'يتم': 2195, 'இக': 2597, 'அங': 2570, 'பரம': 2704, 'மன': 2714, 'சன': 2655, 'னத': 2689, 'سلطنت': 1863, 'شاہ': 1889, 'دولت': 1805, 'آباد': 1467, 'جہاں': 1731, 'وہ': 2192, 'دریا': 1790, '바그너의': 2966, '많은': 2963, '것이': 2936, '이는': 2978, 'south': 1118, 'top': 1231, 'early': 340, 'did': 302, 'maria': 693, 'cm': 226, 'своей': 1450, 'его': 1416, 'более': 1403, 'только': 1459, 'ещё': 1417, 'по': 1443, 'между': 1431, 'при': 1447, 'но': 1436, 'उसक': 2397, 'हम': 2566, 'तक': 2449, 'रहत': 2526, 'टक': 2446, 'कथ': 2409, 'चल': 2438, 'बड': 2481, 'रख': 2510, 'मर': 2495, 'पन': 2472, 'चक': 2435, 'पत': 2470, 'सन': 2555, 'सस': 2563, 'पस': 2475, 'yeni': 1358, 'alan': 32, 'الحدود': 1538, 'وكذلك': 2174, 'sub': 1144, 'onde': 849, 'selain': 1055, 'lainnya': 642, 'spanyol': 1119, 'festival': 409, 'paskah': 890, 'seperti': 1066, 'lain': 641, 'memiliki': 719, 'antara': 66, 'italia': 570, 'ne': 783, 'part': 885, 'central': 200, 'شہر': 1920, 'mida': 733, 'mille': 735, 'üle': 1397, 'tema': 1185, 'pärast': 963, 'کسی': 2273, 'ہوتا': 2329, 'عربی': 1946, 'اگر': 1594, 'مقام': 2060, 'پانی': 2208, 'தக': 2670, 'யங': 2720, 'தங': 2671, 'உற': 2620, 'பயன': 2701, 'ளனர': 2751, 'உண': 2618, 'அளவ': 2584, 'அலக': 2583, 'டப': 2664, 'றன': 2737, 'இவ': 2614, 'கன': 2640, 'ha': 480, 'uno': 1272, 'von': 1308, 'kes': 614, 'sai': 1016, 'داخل': 1773, 'العراق': 1550, '일본': 2984, 'மண': 2712, 'ளன': 2750, 'பல': 2706, 'ஆன': 2592, 'றவ': 2741, 'centro': 203, 'الجاحظ': 1536, 'овчинников': 1438, 'том': 1460, 'வத': 2760, 'அப': 2577, 'தனர': 2676, 'இடம': 2602, '바그너는': 2965, '다른': 2948, 'marie': 694, '이름을': 2980, '대한': 2951, '결국': 2938, '따라': 2957, 'fick': 411, 'vann': 1288, 'san': 1028, 'tour': 1235, 'españa': 379, 'some': 1111, 'them': 1207, 'two': 1249, 'man': 689, 'would': 1350, 'نقش': 2105, 'قدیم': 1991, 'زمان': 1838, 'دوم': 1806, 'شاه': 1888, 'همراه': 2141, 'نشان': 2100, 'دهد': 1797, 'انقلاب': 1579, 'اسلامی': 1519, 'گفت': 2319, 'سوریه': 1874, 'حضور': 1743, 'نظامی': 2102, 'södra': 1162, 'sedan': 1046, 'än': 1376, 'millimeter': 736, '같이': 2932, 'macht': 680, 'cel': 197, 'timp': 1223, 'casa': 193, 'va': 1284, 'meer': 715, 'madrid': 682, 'แต': 2907, 'นได': 2843, 'อย': 2878, 'และม': 2911, 'อด': 2872, 'แห': 2913, 'งน': 2796, 'मह': 2498, 'मल': 2496, 'शन': 2545, 'sera': 1069, 'nouveau': 811, 'français': 435, 'soit': 1105, 'pendant': 901, 'کچھ': 2294, 'بڑا': 1648, 'اسی': 1520, 'بولا': 1644, 'டத': 2662, 'சட': 2652, 'டமன': 2666, 'களவ': 2648, 'உட': 2617, 'இவற': 2616, 'னர': 2691, 'றனர': 2738, 'non': 802, 'انگلیسی': 1582, 'تمام': 1685, 'فعالیت': 1975, 'وجود': 2159, 'مانند': 2023, 'он': 1440, 'اب': 1497, 'تین': 1702, 'story': 1134, 'cual': 249, 'country': 245, 'team': 1180, 'won': 1345, 'iv': 575, 'number': 819, 'то': 1457, 'для': 1414, 'records': 984, 'уже': 1461, 'который': 1427, 'اول': 1589, 'بہت': 1651, 'project': 954, 'samen': 1025, 'आम': 2372, 'पहच': 2477, 'हरण': 2568, 'शब': 2546, 'कभ': 2413, 'beaugrand': 143, 'தட': 2672, 'ணப': 2669, 'இண': 2603, 'ஏற': 2630, 'çok': 1383, 'büyük': 182, 'กล': 2777, 'คร': 2785, 'กเร': 2783, 'vers': 1297, 'était': 1386, 'quil': 974, 'bien': 162, 'très': 1242, 'before': 148, 'law': 649, 'city': 219, 'قانون': 1987, 'حصہ': 1741, 'دوسرے': 1804, 'बर': 2485, 'करण': 2416, 'टर': 2448, 'उत': 2388, 'दन': 2458, 'மத': 2713, 'பய': 2700, 'சங': 2651, 'இலக': 2613, 'லங': 2743, 'டல': 2668, 'சல': 2659, '또한': 2961, 'así': 101, 'victoria': 1301, 'tras': 1239, 'sin': 1091, 'solo': 1109, 'segunda': 1048, 'कहत': 2423, 'उल': 2395, 'कन': 2410, 'वक': 2535, 'कह': 2422, 'शत': 2544, 'नत': 2462, 'गई': 2426, 'उसन': 2398, 'تعلیم': 1678, 'لے': 2020, 'آپ': 1480, 'مرکزی': 2048, 'อน': 2875, 'าส': 2888, 'งม': 2798, 'ยง': 2853, 'คน': 2784, 'ให': 2919, 'แก': 2906, 'นอย': 2838, 'data': 271, 'exemplu': 396, 'într': 1390, 'unui': 1275, 'single': 1092, 'house': 520, 'university': 1271, 'model': 742, 'th': 1202, 'century': 204, 'now': 815, 'center': 199, 'cele': 198, 'ale': 36, 'ar': 81, 'fi': 410, 'test': 1199, 'ancak': 51, 'mei': 716, 'hem': 505, 'inter': 557, 'etiam': 391, 'baru': 138, 'jakarta': 579, 'selatan': 1057, 'besar': 155, 'daerah': 259, 'beberapa': 144, 'satu': 1032, 'ii': 533, 'bahasa': 130, 'januari': 581, 'hingga': 514, 'ia': 526, 'dikenal': 306, 'ex': 395, 'bahwa': 131, 'menggunakan': 721, 'perusahaan': 910, 'kedua': 606, 'setelah': 1077, 'iam': 527, 'ubi': 1252, 'si': 1084, 'costa': 244, 'العام': 1548, 'عليه': 1956, 'منطقة': 2071, 'لها': 2012, 'ad': 15, 'argentina': 85, 'presiden': 939, 'atas': 103, 'majoritatea': 688, 'cea': 196, 'local': 664, 'primul': 948, 'dintre': 308, 'zona': 1372, 'nord': 803, 'band': 133, 'अफ': 2357, 'शहर': 2548, 'dna': 317, 'see': 1047, 'หร': 2865, 'นส': 2836, 'หล': 2866, 'inclusive': 546, 'علیہ': 1960, 'زندگی': 1842, 'ہر': 2322, 'حسن': 1739, 'دار': 1776, 'شهر': 1906, 'پیش': 2224, 'مرکز': 2047, 'تغییر': 1679, 'brasil': 175, 'contre': 241, 'اداره': 1501, 'داده': 1775, 'natural': 781, 'lebih': 653, 'masa': 700, 'kecil': 605, 'kita': 619, 'இப': 2608, 'kan': 600, 'asteroid': 96, 'मध': 2493, 'रद': 2515, 'वत': 2536, 'अलग': 2363, 'लव': 2534, 'जम': 2442, 'बढ': 2482, 'सद': 2554, 'आज': 2366, 'जर': 2443, 'नव': 2465, 'منذ': 2070, 'عثمانی': 1942, 'کردند': 2269, 'دلیل': 1793, 'کرمانشاه': 2271, 'کرد': 2268, 'تبدیل': 1666, 'مرگ': 2049, 'سر': 1857, 'beskrevs': 156, 'ingår': 553, 'släktet': 1098, 'familjen': 401, 'inga': 551, 'underarter': 1262, 'finns': 420, 'listade': 661, 'catalogue': 194, '年月日': 2927, 'kemudian': 611, 'ke': 604, 'sebelum': 1040, 'bersama': 154, 'खर': 2425, 'อต': 2873, 'สเซ': 2863, 'นม': 2832, 'ตร': 2813, 'ตว': 2814, 'นเป': 2841, 'ยว': 2856, 'งข': 2790, 'นบ': 2829, 'ทธ': 2815, 'они': 1441, 'под': 1444, 'white': 1337, 'церкви': 1462, 'россии': 1448, 'совета': 1452, 'heeft': 503, 'day': 273, 'ہوتے': 2331, 'tetapi': 1200, 'thomas': 1213, 'national': 779, 'park': 883, 'ழக': 2754, 'எல': 2628, 'உலக': 2621, 'مردم': 2045, 'سیاسی': 1882, 'نمی': 2108, 'شدن': 1892, 'بسیاری': 1627, 'شهرهای': 1908, 'شدند': 1893, 'ملی': 2066, 'اما': 1565, 'گرفته': 2317, 'بار': 1604, 'گذشته': 2314, 'زمین': 1839, 'نام': 2093, 'ella': 358, 'två': 1246, 'så': 1158, 'andra': 54, 'شهرستان': 1907, 'میلادی': 2087, 'نسبت': 2098, '의해': 2976, 'بن': 1637, 'چند': 2236, 'روز': 1828, 'natus': 782, 'mortuus': 747, 'fuit': 443, 'oma': 846, 'municipio': 755, 'banda': 134, 'direct': 309, 'usa': 1279, 'นช': 2821, 'นพ': 2831, 'อท': 2874, 'งอย': 2801, 'กคร': 2772, 'ante': 67, 'siendo': 1087, 'นเร': 2842, 'ศน': 2860, 'numele': 821, 'sous': 1117, 'groupe': 474, 'nume': 820, 'acest': 12, 'până': 962, 'มหาว': 2852, 'ทยาล': 2816, 'กษา': 2780, 'นว': 2835, 'งท': 2795, 'ในป': 2918, 'خاص': 1750, 'کوئی': 2285, 'habitantes': 483, 'área': 1375, 'เหล': 2905, 'กร': 2776, 'people': 903, 'februari': 407, 'رود': 1827, 'ومن': 2181, '등이': 2956, '그가': 2940, 'มท': 2849, 'เห': 2904, 'งก': 2787, 'อส': 2880, 'centrala': 201, 'following': 424, 'dünya': 339, 'tout': 1236, 'coupe': 247, 'آب': 1466, 'کمک': 2279, 'اند': 1574, 'اصلی': 1523, 'برنامه': 1623, 'جهانی': 1727, 'بیش': 1655, 'میلیون': 2088, 'نیروهای': 2119, 'نړۍ': 2116, 'بله': 1636, 'ژبه': 2249, 'سيمه': 1879, 'ژبو': 2250, 'برخو': 1621, 'زده': 1836, 'باشگاه': 1608, 'mientras': 734, 'año': 124, 'video': 1304, 'suatu': 1143, 'ada': 16, 'jika': 584, 'toen': 1229, 'royal': 1006, 'men': 720, 'största': 1139, 'då': 338, 'island': 568, 'club': 223, '것이다': 2937, '하였다': 2993, 'tijdens': 1219, 'रदर': 2516, 'была': 1405, 'välja': 1311, 'iki': 535, 'biri': 166, 'habitants': 484, 'ont': 853, 'fait': 398, 'centre': 202, 'debré': 275, 'paris': 882, 'saint': 1018, 'plusieurs': 921, 'service': 1073, 'அண': 2572, 'கடல': 2636, 'தவர': 2684, 'டக': 2660, 'استاد': 1510, 'جمهوری': 1720, 'پس': 2212, 'دوره': 1803, 'بین': 1657, 'المللی': 1558, 'دهه': 1799, 'همان': 2139, 'کرده': 2270, 'دارند': 1779, 'perang': 905, 'selama': 1056, 'operasi': 857, 'tiga': 1218, 'เจ': 2892, 'ยน': 2854, 'เข': 2891, 'ولایت': 2177, 'شوه': 1914, 'کړو': 2298, 'یوه': 2343, 'پوهنتون': 2217, 'حقوق': 1745, 'برخه': 1620, 'incolarum': 548, 'pars': 884, 'familie': 400, 'wetenschappelijke': 1331, 'soort': 1116, 'eerst': 346, 'geldig': 451, 'gepubliceerd': 460, 'เก': 2890, 'serta': 1072, 'barat': 137, 'kali': 598, 'باندي': 1611, 'وه': 2184, 'اړه': 1593, 'شروع': 1898, 'شول': 1912, 'لحاظ': 2007, 'هسته': 2133, 'نیویارک': 2122, 'ریاست': 1833, 'علاقہ': 1950, 'کیونکہ': 2308, 'شمار': 1900, 'ano': 62, 'dia': 301, 'paulo': 894, 'até': 108, 'futebol': 445, 'мл': 1432, 'было': 1407, 'specie': 1121, 'persoane': 907, 'poate': 922, 'modern': 743, '것으로': 2933, '여러': 2972, 'सत': 2553, 'आवश': 2375, 'علیه': 1959, 'السلام': 1546, 'धन': 2460, 'peut': 913, 'être': 1388, 'junto': 594, 'dentro': 283, 'والے': 2157, 'اعظم': 1524, 'total': 1234, 'álbum': 1374, 'love': 673, 'station': 1132, 'enquanto': 365, '昭和年': 2928, 'terrängen': 1197, 'مخ': 2038, 'ورځ': 2166, 'امله': 1568, 'ولري': 2178, 'berg': 153, 'pp': 935, 'born': 173, 'until': 1273, 'ayam': 121, 'telur': 1183, 'شیخ': 1922, 'عمر': 1961, 'کړې': 2301, 'پیل': 2225, 'صاحب': 1923, 'زوی': 1843, 'مولانا': 2083, 'کړل': 2296, 'پاتې': 2206, 'کړ': 2295, 'سفر': 1861, 'شمس': 1903, 'غیر': 1971, 'الدین': 1542, 'سلطان': 1862, 'روم': 1829, 'سه': 1869, 'حضرت': 1742, 'جای': 1712, 'كې': 2000, 'دوه': 1807, 'album': 34, 'january': 582, 'california': 186, 'gps': 468, 'mare': 692, 'того': 1458, 'же': 1419, '부족의': 2967, '호드의': 2998, 'post': 931, 'एव': 2401, 'birçok': 168, 'adı': 19, 'twee': 1247, 'tegen': 1181, 'rna': 997, 'عباس': 1939, 'पहन': 2478, 'कपड': 2412, 'कस': 2421, 'பன': 2698, 'லவ': 2747, 'இம': 2609, 'இட': 2600, 'அவ': 2586, 'título': 1250, 'мая': 1430, 'после': 1445, 'mm': 741, 'michael': 731, 'انہوں': 1583, 'کرنے': 2272, 'صرف': 1925, 'primera': 947, 'mundial': 753, 'hans': 491, 'él': 1385, 'لئے': 2001, 'علی': 1958, 'انتقال': 1571, 'sahip': 1015, 'جاتے': 1708, 'کرتا': 2266, 'ہم': 2324, 'اہم': 1595, 'شامل': 1886, 'انجام': 1573, 'orang': 860, 'بازی': 1606, 'русской': 1449, 'православной': 1446, 'церковь': 1463, 'foto': 430, 'iphoto': 564, 'lund': 676, 'hade': 487, 'roissy': 1001, 'nom': 797, 'commune': 232, 'river': 996, 'กด': 2774, 'โรงเร': 2915, 'อง': 2870, 'ดท': 2811, 'งต': 2794, 'class': 222, 'niet': 791, 'ยวก': 2857, 'freddy': 438, 'teve': 1201, 'ainda': 26, 'antes': 68, 'ela': 355, 'nome': 799, 'kilometer': 617, 'söder': 1161, 'ارتفاع': 1503, 'تخمونه': 1670, 'امام': 1566, 'عبد': 1940, 'هـ': 2136, 'افغان': 1527, 'وړاندې': 2190, 'خلک': 1760, 'ابن': 1498, 'lahir': 640, 'hidup': 510, 'pertama': 909, 'سوري': 1872, 'دهغه': 1798, 'research': 994, 'sekolah': 1054, 'terdapat': 1193, 'setiap': 1078, 'terjadi': 1194, 'saksi': 1020, 'seluruh': 1059, 'dunia': 333, 'nii': 793, 'koos': 623, 'کابل': 2259, 'ژبې': 2251, 'ben': 151, 'society': 1104, 'page': 878, 'web': 1324, 'către': 257, 'alguns': 37, 'cerca': 205, 'sem': 1060, 'pelo': 899, 'já': 595, 'sendo': 1064, 'lugar': 674, 'agosto': 25, 'finales': 419, 'peter': 912, 'political': 927, 'quando': 969, 'или': 1422, 'их': 1424, 'داعش': 1783, 'آخر': 1471, 'كما': 1999, 'وقال': 2170, 'رئيس': 1819, 'مجلس': 2030, 'مهم': 2077, 'العالم': 1547, 'her': 506, 'कश': 2420, 'शक': 2543, 'आन': 2370, 'موزه': 2081, 'بیشتر': 1656, 'تشکیل': 1674, 'série': 1160, 'championnat': 210, 'público': 965, 'esse': 380, 'گئی': 2312, 'نسل': 2099, 'ہوئی': 2326, 'ayrıca': 123, 'kadar': 597, '있으며': 2988, '군단의': 2939, 'والتي': 2155, 'نہ': 2117, 'لوگ': 2013, 'رہے': 1832, 'طرف': 1932, 'کام': 2262, 'journal': 590, 'history': 517, 'they': 1211, 'species': 1122, 'used': 1280, 'can': 189, 'along': 42, 'columbia': 229, 'where': 1334, 'bisa': 169, 'biasanya': 160, 'presidente': 941, 'clube': 224, 'norra': 806, 'nordväst': 804, 'gran': 469, 'între': 1391, 'conform': 237, 'recensământului': 983, 'ucraineană': 1253, 'جدید': 1715, 'قسمت': 1994, 'شرقی': 1897, 'kembar': 610, 'siam': 1085, 'saat': 1014, 'salah': 1021, 'sama': 1023, 'său': 1164, 'două': 325, 'construction': 239, 'नर': 2464, 'इनक': 2381, 'उच': 2387, 'इसल': 2386, 'रचन': 2511, 'کوه': 2289, 'هزار': 2131, 'им': 1423, 'так': 1455, 'aga': 22, 'अल': 2362, 'गत': 2429, 'etc': 390, 'انفلوينزا': 1578, 'وايرس': 2158, 'ئې': 1496, 'musik': 760, 'sehingga': 1050, '年月': 2926, 'namun': 777, 'otras': 868, 'josé': 589, 'tag': 1166, '대해': 2952, '역시': 2973, 'årsmedeltemperaturen': 1380, 'trakten': 1238, 'varmaste': 1291, 'månaden': 766, 'medeltemperaturen': 713, 'kallaste': 599, 'genomsnittlig': 455, 'årsnederbörd': 1381, 'regnigaste': 988, 'genomsnitt': 454, 'nederbörd': 784, 'torraste': 1232, 'maj': 687, 'ekonomi': 353, 'economic': 344, 'development': 297, 'sementara': 1061, 'استان': 1511, 'یونان': 2342, 'فقط': 1977, 'اروپا': 1505, 'while': 1336, 'تأسیس': 1660, 'جنوبی': 1724, 'انځر': 1580, 'ளங': 2748, 'அன': 2576, 'doar': 319, 'อก': 2867, 'งค': 2791, 'บท': 2845, 'point': 926, 'lea': 651, 'تیم': 1701, 'เส': 2903, 'เล': 2902, 'bell': 150, 'många': 767, 'bland': 171, 'campo': 188, 'افغانستان': 1528, 'ژباړې': 2248, 'څېړنې': 2233, 'தற': 2681, 'kuperad': 632, 'åt': 1382, 'högsta': 525, 'punkten': 961, 'närheten': 825, 'glesbefolkat': 465, 'invånare': 562, 'kvadratkilometer': 634, 'omgivningarna': 847, 'huvudsak': 522, 'ovanligt': 873, 'namngivna': 776, '나이트': 2946, 'civil': 221, 'sua': 1141, 'lake': 643, 'kanada': 601, 'คศ': 2786, 'เท': 2895, 'sutton': 1153, 'unidos': 1266, 'تقریبا': 1680, 'برابر': 1618, 'بڑی': 1649, 'इज': 2378, 'जह': 2445, 'यवस': 2506, 'res': 993, 'nova': 813, 'juli': 592, 'après': 78, 'primer': 946, 'aynı': 122, 'تاریخی': 1665, 'عنوان': 1967, 'michel': 732, 'todas': 1226, 'menos': 723, 'norr': 805, 'ganska': 449, 'närmaste': 826, 'större': 1138, 'samhälle': 1026, 'อม': 2877, 'นทร': 2826, 'show': 1083, 'news': 790, 'นร': 2834, 'าท': 2885, 'seas': 1037, 'جھیل': 1730, 'första': 448, 'valverde': 1285, 'inte': 556, 'பள': 2707, 'கச': 2634, 'atque': 105, 'nomen': 800, 'college': 228, 'moment': 744, 'fie': 412, 'ยร': 2855, 'และ': 2910, 'जल': 2444, 'चन': 2436, 'eesti': 348, 'site': 1094, 'été': 1387, 'trois': 1241, 'مه': 2075, 'ولايت': 2176, 'ښار': 2253, 'george': 458, 'saison': 1019, 'rusia': 1010, 'personas': 908, 'oldu': 835, 'مربوط': 2043, 'داد': 1774, 'کنند': 2281, 'اعلام': 1525, 'نخستین': 2096, 'مارس': 2022, 'अम': 2360, 'association': 95, 'europa': 394, 'sest': 1075, 'üks': 1396, 'سنگ': 1868, 'जबक': 2441, 'இதன': 2605, 'பம': 2699, 'गर': 2431, 'منها': 2073, 'mulai': 751, 'minggu': 737, 'bulan': 178, 'termasuk': 1195, 'masih': 701, 'الحداثة': 1537, 'بالا': 1610, 'همه': 2142, 'البابا': 1533, 'يكون': 2196, 'خارج': 1749, 'லக': 2742, 'türkiye': 1251, 'kendi': 612, 'sistem': 1093, 'olmuştur': 843, 'ளம': 2752, 'ஆட': 2590, 'எத': 2626, 'வளர': 2768, 'இடத': 2601, 'ரணம': 2730, 'வல': 2766, 'göre': 478, 'held': 504, 'name': 775, 'bazı': 141, 'estados': 384, 'arreglados': 87, 'india': 549, 'றப': 2739, 'ஆச': 2589, 'வம': 2764, 'கற': 2644, 'mesmo': 728, 'اولین': 1590, 'شناسی': 1905, 'wat': 1321, 'waar': 1316, 'kunnen': 631, 'वप': 2538, 'زنجان': 1840, 'پایان': 2210, 'acn': 13, 'سوات': 1871, 'مصر': 2055, 'سيد': 1877, 'دنده': 1794, 'کړه': 2297, 'پيل': 2218, 'noël': 816, 'godin': 466, 'three': 1214, 'شرکت': 1899, 'any': 71, 'चर': 2437, 'large': 645, 'อค': 2869, 'internacional': 558, 'gereja': 461, 'sendiri': 1063, 'inggris': 552, 'digunakan': 305, 'nya': 822, 'berbagai': 152, 'birlikte': 167, 'cest': 208, 'général': 477, 'üzerine': 1399, 'इसम': 2385, 'मत': 2492, 'mar': 691, 'plan': 918, 'aunque': 112, 'daley': 263, 'متحد': 2025, 'waktu': 1317, 'стал': 1454, 'består': 158, 'seda': 1045, 'bibliothèque': 161, 'nationale': 780, 'werden': 1328, 'embargo': 362, 'لیا': 2017, 'بنا': 1638, 'incolae': 547, 'hearst': 501, 'bank': 135, 'she': 1082, 'about': 7, 'غربی': 1969, 'james': 580, 'นาคม': 2839, 'ลบ': 2858, 'สต': 2861, 'นย': 2833, 'française': 436, 'suas': 1142, 'области': 1437, 'наук': 1434, 'april': 77, 'چلسی': 2235, 'بودند': 1642, 'فوتبال': 1978, 'kuid': 629, 'four': 431, 'end': 364, 'وا': 2151, 'ون': 2182, 'چون': 2239, 'siis': 1090, 'وړ': 2189, 'اوبه': 1585, 'چی': 2241, 'یی': 2348, 'شی': 1921, 'باید': 1614, 'ځای': 2227, 'भर': 2489, 'पक': 2467, 'कड': 2408, 'آثار': 1470, 'กส': 2781, 'music': 758, 'اسلام': 1517, 'اللہ': 1555, 'جرم': 1716, 'مطابق': 2056, 'رسول': 1823, 'primeiro': 945, 'أبو': 1482, 'فيه': 1980, 'பதற': 2697, 'வழங': 2770, 'مرسته': 2046, 'ېې': 2350, 'خپله': 1769, 'نور': 2111, 'شوی': 1916, 'mycket': 763, 'مجمع': 2031, 'عمومی': 1963, 'اسد': 1515, 'جمله': 1719, 'چین': 2242, 'پی': 2222, 'kreeg': 625, 'injil': 555, 'eius': 352, 'यवह': 2507, 'กซ': 2773, 'งช': 2792, 'ملي': 2064, 'همدې': 2140, 'เมตร': 2900, 'าเป': 2889, '따르면': 2958, 'تاجیکستان': 1662, 'العديد': 1549, 'حول': 1746, 'duas': 330, 'santiago': 1031, 'tom': 1230, 'stoke': 1133, 'jordens': 588, 'jorden': 587, 'stade': 1129, 'todos': 1228, 'สร': 2862, 'ans': 65, 'fois': 423, 'ரர': 2733, 'ajal': 29, 'خپلې': 1771, 'مهال': 2076, 'merkez': 726, 'cinco': 216, 'spelen': 1123, 'clubs': 225, 'بشر': 1628, 'ولی': 2180, 'کنیم': 2282, 'usque': 1281, 'นคร': 2819, 'กท': 2775, 'กา': 2782, 'แม': 2908, 'rugby': 1007, 'sed': 1044, 'santa': 1030, 'high': 511, 'نمونه': 2107, 'ښايي': 2254, 'لاندې': 2006, 'خورشیدی': 1766, 'خبر': 1754, 'خاطر': 1751, 'ستاره': 1856, 'بزرگ': 1624, 'آهن': 1479, 'واحد': 2152, 'کتاب': 2263, 'ډېره': 2247, 'اردو': 1504, 'zone': 1373, 'بیان': 1654, 'شراب': 1895, 'صلی': 1927, 'مسلم': 2051, '되고': 2953, '언데드': 2970, '리치': 2962, 'finale': 418, 'gemeente': 452, 'nouvelle': 812, 'العربية': 1551, 'جائے': 1705, 'खन': 2424, 'rerum': 992, 'வழ': 2769, 'где': 1410, 'ดข': 2809, 'لارې': 2003, 'جوړ': 1729, 'ځان': 2226, 'if': 530, 'فصل': 1974, 'además': 18, 'poder': 925, 'muy': 761, 'disebut': 311, '타락한': 2990, 'bin': 164, 'خراسان': 1756, 'ایرانی': 1599, 'ழல': 2755, 'gewonnen': 462, '인간': 2982, '인해': 2983, 'waren': 1319, 'geen': 450, 'بي': 1645, 'سي': 1875, 'อกต': 2868, 'ฐมนตร': 2808, 'นดะอ': 2823, 'special': 1120, 'art': 88, 'seorang': 1065, 'internet': 560, 'பங': 2693, 'فارسی': 1973, 'งกล': 2789, 'georges': 459, 'انتى': 1572, 'کول': 2286, 'rock': 1000, 'vel': 1295, 'heráldica': 507, 'autem': 115, 'vilket': 1305, 'chica': 212, 'mágica': 764, 'கலந': 2646, 'old': 834, 'all': 39, 'according': 10, 'حزب': 1738, 'خون': 1767, 'ils': 540, 'رشته': 1824, 'pasukan': 892, 'வங': 2757, 'françois': 437, 'بغداد': 1632, 'december': 276, 'genul': 456, 'praefecturae': 936, 'احمد': 1500, 'कप': 2411, 'then': 1208, 'três': 1243, 'latinos': 648, 'football': 425, 'அழ': 2585, 'students': 1137, 'depois': 285, 'வள': 2767, 'ikinci': 536, 'filme': 415, 'face': 397, 'بې': 1658, 'student': 1136, '이끄는': 2977, 'family': 402, 'வதற': 2761, 'yapılan': 1355, 'союза': 1453, 'st': 1127, 'church': 214, 'public': 958, 'me': 711, '또는': 2960, 'ging': 464, 'olympische': 844, 'آلہ': 1474, 'popular': 928, 'eski': 378, 'ba': 126, 'sangat': 1029, 'هدف': 2127, 'عليها': 1957, 'محمود': 2037, 'tentang': 1191, 'इक': 2377, 'cup': 254, 'هغو': 2135, 'إن': 1494, 'ปร': 2847, 'market': 695, 'جان': 1710, 'پهلوی': 2214, 'asia': 93, 'río': 1012, 'งหว': 2800, 'محل': 2035, 'division': 315, 'آنها': 1478, 'நம': 2688, 'aastast': 4, 'råder': 1011, 'её': 1418, 'so': 1101, 'will': 1340, 'güvenlik': 479, 'درجه': 1787, 'پوري': 2215, 'menyatakan': 724, 'democracy': 280, 'زیر': 1847, 'شاعر': 1885, 'مشہور': 2054, 'آبشار': 1469, 'أول': 1489, 'عندما': 1966, 'ناروغۍ': 2092, 'यन': 2503, 'sport': 1125, 'estava': 385, 'उर': 2394, 'हत': 2565, 'fc': 406, 'aussi': 113, 'लक': 2527, 'martin': 697, 'سعد': 1860, 'ساختمان': 1849, 'kasım': 603, 'pot': 932, 'ساخته': 1850, 'norte': 807, 'özel': 1395, 'خط': 1757, 'عبر': 1941, 'الاتصالات': 1532, 'کتابخانه': 2264, 'القرن': 1552, 'یہاں': 2347, 'लगभग': 2530, 'ss': 1126, 'حالت': 1734, 'phase': 914, 'حسین': 1740, 'şarkı': 1400, 'ور': 2163, 'جام': 1709, 'یاد': 2338, 'estádio': 388, 'copa': 243, 'växer': 1313, 'huvudsakligen': 523, 'อป': 2876, 'sul': 1148, 'خانه': 1753, 'imperio': 541, 'ரங': 2729, 'องก': 2871, 'درختان': 1788, 'றம': 2740, 'kus': 633, 'خدا': 1755, 'importante': 542, 'उपन': 2392, 'lor': 669, 'มน': 2850, 'งชาต': 2793, 'فقد': 1976, 'صدر': 1924, 'eles': 357, 'ranger': 978, 'لخوا': 2008, 'luta': 678, 'zoals': 1371, 'بیا': 1653, 'hand': 490, 'cerro': 206, 'आप': 2371, 'دځمکې': 1811, '모두': 2964, 'الحرب': 1539, 'سلم': 1864, 'بات': 1603, 'بايد': 1613, 'دانشگاه': 1784, 'sekitar': 1053, 'خلکو': 1761, 'seizoen': 1051, 'dag': 260, 'عراق': 1944, 'اسرائیل': 1516, 'desa': 289, 'مسلمانوں': 2052, 'quatre': 970, 'önce': 1392, 'papa': 879, 'masing': 702, 'நகரம': 2686, 'نوشته': 2113, 'snijders': 1100, 'فیلم': 1982, '아서스가': 2969, 'एड': 2400, 'تحریک': 1668, 'واسطه': 2153, 'annum': 59, 'francicum': 434, 'erau': 375, 'comuna': 235, 'lunds': 677, 'النحاس': 1560, 'melor': 717}\n"
          ]
        }
      ]
    },
    {
      "cell_type": "code",
      "source": [
        "classifier = SVC(kernel='rbf')"
      ],
      "metadata": {
        "id": "V4qpNLox9C0w"
      },
      "execution_count": null,
      "outputs": []
    },
    {
      "cell_type": "code",
      "source": [
        "classifier.fit(X=X_train, y=y_train)\n",
        "y_pred = classifier.predict(X=X_test)"
      ],
      "metadata": {
        "id": "anfvlxeU9OzH"
      },
      "execution_count": null,
      "outputs": []
    },
    {
      "cell_type": "code",
      "source": [
        "print(f'Classifier score: {classifier.score(X=X_test, y=y_test)}')"
      ],
      "metadata": {
        "colab": {
          "base_uri": "https://localhost:8080/"
        },
        "id": "PyK_l0xa9dOq",
        "outputId": "95ccc432-eb9c-4bac-d211-ad3134f3bd1f"
      },
      "execution_count": null,
      "outputs": [
        {
          "output_type": "stream",
          "name": "stdout",
          "text": [
            "Classifier score: 0.9428179322964318\n"
          ]
        }
      ]
    },
    {
      "cell_type": "code",
      "source": [
        "print(classification_report(y_true=y_test, y_pred=y_pred))"
      ],
      "metadata": {
        "colab": {
          "base_uri": "https://localhost:8080/"
        },
        "id": "qW-4_BmK9hGO",
        "outputId": "18b3a9d3-47ca-46ef-d5c4-4a5658c7b0e5"
      },
      "execution_count": null,
      "outputs": [
        {
          "output_type": "stream",
          "name": "stdout",
          "text": [
            "              precision    recall  f1-score   support\n",
            "\n",
            "      Arabic       0.99      0.99      0.99       193\n",
            "     Chinese       0.54      0.93      0.68       192\n",
            "       Dutch       1.00      0.98      0.99       191\n",
            "     English       0.82      0.99      0.89       202\n",
            "    Estonian       0.96      0.95      0.96       194\n",
            "      French       0.96      1.00      0.98       178\n",
            "       Hindi       1.00      0.98      0.99       164\n",
            "  Indonesian       1.00      0.96      0.98       220\n",
            "    Japanese       0.87      0.30      0.44       176\n",
            "      Korean       1.00      0.96      0.98       215\n",
            "       Latin       0.93      0.95      0.94       217\n",
            "     Persian       1.00      0.98      0.99       193\n",
            "   Portugese       1.00      0.99      0.99       190\n",
            "      Pushto       1.00      0.95      0.98       186\n",
            "    Romanian       1.00      0.98      0.99       222\n",
            "     Russian       0.99      0.94      0.97       192\n",
            "     Spanish       0.98      0.95      0.96       211\n",
            "     Swedish       1.00      0.99      0.99       204\n",
            "       Tamil       1.00      0.98      0.99       197\n",
            "        Thai       1.00      0.98      0.99       197\n",
            "     Turkish       1.00      0.97      0.98       224\n",
            "        Urdu       1.00      0.96      0.98       214\n",
            "\n",
            "    accuracy                           0.94      4372\n",
            "   macro avg       0.95      0.94      0.94      4372\n",
            "weighted avg       0.96      0.94      0.94      4372\n",
            "\n"
          ]
        }
      ]
    },
    {
      "cell_type": "code",
      "source": [
        "predictions = pd.DataFrame(data={\n",
        "    'y_true': y_test,\n",
        "    'y_pred': y_pred\n",
        "})"
      ],
      "metadata": {
        "id": "N--aUBM99rfJ"
      },
      "execution_count": 58,
      "outputs": []
    },
    {
      "cell_type": "code",
      "source": [
        "predictions"
      ],
      "metadata": {
        "colab": {
          "base_uri": "https://localhost:8080/",
          "height": 423
        },
        "id": "Hsrq8tyj9uFV",
        "outputId": "a9615ca5-7cbb-4580-be80-726202836345"
      },
      "execution_count": 59,
      "outputs": [
        {
          "output_type": "execute_result",
          "data": {
            "text/plain": [
              "           y_true      y_pred\n",
              "3186   Indonesian  Indonesian\n",
              "18095     English     English\n",
              "12148     Swedish     Swedish\n",
              "1986     Romanian    Romanian\n",
              "12901       Hindi       Hindi\n",
              "...           ...         ...\n",
              "15635      Korean      Korean\n",
              "7535       Korean      Korean\n",
              "21679        Thai        Thai\n",
              "1278        Latin       Latin\n",
              "21326       Latin       Latin\n",
              "\n",
              "[4372 rows x 2 columns]"
            ],
            "text/html": [
              "\n",
              "  <div id=\"df-2f745e09-36b2-4b82-b6a9-ab33f840b5e5\">\n",
              "    <div class=\"colab-df-container\">\n",
              "      <div>\n",
              "<style scoped>\n",
              "    .dataframe tbody tr th:only-of-type {\n",
              "        vertical-align: middle;\n",
              "    }\n",
              "\n",
              "    .dataframe tbody tr th {\n",
              "        vertical-align: top;\n",
              "    }\n",
              "\n",
              "    .dataframe thead th {\n",
              "        text-align: right;\n",
              "    }\n",
              "</style>\n",
              "<table border=\"1\" class=\"dataframe\">\n",
              "  <thead>\n",
              "    <tr style=\"text-align: right;\">\n",
              "      <th></th>\n",
              "      <th>y_true</th>\n",
              "      <th>y_pred</th>\n",
              "    </tr>\n",
              "  </thead>\n",
              "  <tbody>\n",
              "    <tr>\n",
              "      <th>3186</th>\n",
              "      <td>Indonesian</td>\n",
              "      <td>Indonesian</td>\n",
              "    </tr>\n",
              "    <tr>\n",
              "      <th>18095</th>\n",
              "      <td>English</td>\n",
              "      <td>English</td>\n",
              "    </tr>\n",
              "    <tr>\n",
              "      <th>12148</th>\n",
              "      <td>Swedish</td>\n",
              "      <td>Swedish</td>\n",
              "    </tr>\n",
              "    <tr>\n",
              "      <th>1986</th>\n",
              "      <td>Romanian</td>\n",
              "      <td>Romanian</td>\n",
              "    </tr>\n",
              "    <tr>\n",
              "      <th>12901</th>\n",
              "      <td>Hindi</td>\n",
              "      <td>Hindi</td>\n",
              "    </tr>\n",
              "    <tr>\n",
              "      <th>...</th>\n",
              "      <td>...</td>\n",
              "      <td>...</td>\n",
              "    </tr>\n",
              "    <tr>\n",
              "      <th>15635</th>\n",
              "      <td>Korean</td>\n",
              "      <td>Korean</td>\n",
              "    </tr>\n",
              "    <tr>\n",
              "      <th>7535</th>\n",
              "      <td>Korean</td>\n",
              "      <td>Korean</td>\n",
              "    </tr>\n",
              "    <tr>\n",
              "      <th>21679</th>\n",
              "      <td>Thai</td>\n",
              "      <td>Thai</td>\n",
              "    </tr>\n",
              "    <tr>\n",
              "      <th>1278</th>\n",
              "      <td>Latin</td>\n",
              "      <td>Latin</td>\n",
              "    </tr>\n",
              "    <tr>\n",
              "      <th>21326</th>\n",
              "      <td>Latin</td>\n",
              "      <td>Latin</td>\n",
              "    </tr>\n",
              "  </tbody>\n",
              "</table>\n",
              "<p>4372 rows × 2 columns</p>\n",
              "</div>\n",
              "      <button class=\"colab-df-convert\" onclick=\"convertToInteractive('df-2f745e09-36b2-4b82-b6a9-ab33f840b5e5')\"\n",
              "              title=\"Convert this dataframe to an interactive table.\"\n",
              "              style=\"display:none;\">\n",
              "        \n",
              "  <svg xmlns=\"http://www.w3.org/2000/svg\" height=\"24px\"viewBox=\"0 0 24 24\"\n",
              "       width=\"24px\">\n",
              "    <path d=\"M0 0h24v24H0V0z\" fill=\"none\"/>\n",
              "    <path d=\"M18.56 5.44l.94 2.06.94-2.06 2.06-.94-2.06-.94-.94-2.06-.94 2.06-2.06.94zm-11 1L8.5 8.5l.94-2.06 2.06-.94-2.06-.94L8.5 2.5l-.94 2.06-2.06.94zm10 10l.94 2.06.94-2.06 2.06-.94-2.06-.94-.94-2.06-.94 2.06-2.06.94z\"/><path d=\"M17.41 7.96l-1.37-1.37c-.4-.4-.92-.59-1.43-.59-.52 0-1.04.2-1.43.59L10.3 9.45l-7.72 7.72c-.78.78-.78 2.05 0 2.83L4 21.41c.39.39.9.59 1.41.59.51 0 1.02-.2 1.41-.59l7.78-7.78 2.81-2.81c.8-.78.8-2.07 0-2.86zM5.41 20L4 18.59l7.72-7.72 1.47 1.35L5.41 20z\"/>\n",
              "  </svg>\n",
              "      </button>\n",
              "      \n",
              "  <style>\n",
              "    .colab-df-container {\n",
              "      display:flex;\n",
              "      flex-wrap:wrap;\n",
              "      gap: 12px;\n",
              "    }\n",
              "\n",
              "    .colab-df-convert {\n",
              "      background-color: #E8F0FE;\n",
              "      border: none;\n",
              "      border-radius: 50%;\n",
              "      cursor: pointer;\n",
              "      display: none;\n",
              "      fill: #1967D2;\n",
              "      height: 32px;\n",
              "      padding: 0 0 0 0;\n",
              "      width: 32px;\n",
              "    }\n",
              "\n",
              "    .colab-df-convert:hover {\n",
              "      background-color: #E2EBFA;\n",
              "      box-shadow: 0px 1px 2px rgba(60, 64, 67, 0.3), 0px 1px 3px 1px rgba(60, 64, 67, 0.15);\n",
              "      fill: #174EA6;\n",
              "    }\n",
              "\n",
              "    [theme=dark] .colab-df-convert {\n",
              "      background-color: #3B4455;\n",
              "      fill: #D2E3FC;\n",
              "    }\n",
              "\n",
              "    [theme=dark] .colab-df-convert:hover {\n",
              "      background-color: #434B5C;\n",
              "      box-shadow: 0px 1px 3px 1px rgba(0, 0, 0, 0.15);\n",
              "      filter: drop-shadow(0px 1px 2px rgba(0, 0, 0, 0.3));\n",
              "      fill: #FFFFFF;\n",
              "    }\n",
              "  </style>\n",
              "\n",
              "      <script>\n",
              "        const buttonEl =\n",
              "          document.querySelector('#df-2f745e09-36b2-4b82-b6a9-ab33f840b5e5 button.colab-df-convert');\n",
              "        buttonEl.style.display =\n",
              "          google.colab.kernel.accessAllowed ? 'block' : 'none';\n",
              "\n",
              "        async function convertToInteractive(key) {\n",
              "          const element = document.querySelector('#df-2f745e09-36b2-4b82-b6a9-ab33f840b5e5');\n",
              "          const dataTable =\n",
              "            await google.colab.kernel.invokeFunction('convertToInteractive',\n",
              "                                                     [key], {});\n",
              "          if (!dataTable) return;\n",
              "\n",
              "          const docLinkHtml = 'Like what you see? Visit the ' +\n",
              "            '<a target=\"_blank\" href=https://colab.research.google.com/notebooks/data_table.ipynb>data table notebook</a>'\n",
              "            + ' to learn more about interactive tables.';\n",
              "          element.innerHTML = '';\n",
              "          dataTable['output_type'] = 'display_data';\n",
              "          await google.colab.output.renderOutput(dataTable, element);\n",
              "          const docLink = document.createElement('div');\n",
              "          docLink.innerHTML = docLinkHtml;\n",
              "          element.appendChild(docLink);\n",
              "        }\n",
              "      </script>\n",
              "    </div>\n",
              "  </div>\n",
              "  "
            ]
          },
          "metadata": {},
          "execution_count": 59
        }
      ]
    },
    {
      "cell_type": "code",
      "source": [
        "predictions.to_csv(path_or_buf='/content/predictions.csv')"
      ],
      "metadata": {
        "id": "ScT-_2vZogZg"
      },
      "execution_count": 61,
      "outputs": []
    }
  ]
}